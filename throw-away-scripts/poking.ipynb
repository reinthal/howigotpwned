{
 "cells": [
  {
   "cell_type": "code",
   "execution_count": 59,
   "id": "4d616dae-da7a-4c47-b9d0-dc2ed680b004",
   "metadata": {
    "scrolled": true
   },
   "outputs": [
    {
     "name": "stdout",
     "output_type": "stream",
     "text": [
      "feat-update-schema\n"
     ]
    }
   ],
   "source": [
    "from dagster import EnvVar\n",
    "from pyiceberg.catalog import load_catalog\n",
    "\n",
    "name = \"default\"\n",
    "warehouse = EnvVar(\"NESSIE_WAREHOUSE\").get_value()\n",
    "branch = EnvVar(\"NESSIE_BRANCH\").get_value()\n",
    "uri = EnvVar(\"NESSIE_URI\").get_value()\n",
    "py_io_impl = \"pyiceberg.io.pyarrow.PyArrowFileIO\"\n",
    "s3_endpoint = EnvVar(\"DESTINATION__FILESYSTEM__CREDENTIALS__AWS_S3_ENDPOINT\").get_value()\n",
    "s3_access_key_id = EnvVar(\n",
    "    \"DESTINATION__FILESYSTEM__CREDENTIALS__AWS_ACCESS_KEY_ID\"\n",
    ").get_value()\n",
    "s3_secret_access_key = EnvVar(\n",
    "    \"DESTINATION__FILESYSTEM__CREDENTIALS__AWS_SECRET_ACCESS_KEY\"\n",
    ").get_value()\n",
    "catalog_type = \"rest\"\n",
    "catalog = load_catalog(\n",
    "            **{\n",
    "                \"warehouse\": warehouse,\n",
    "                \"uri\": f\"{uri}/{branch}\",\n",
    "                \"py-io-impl\": py_io_impl,\n",
    "                \"s3.endpoint\": s3_endpoint,\n",
    "                \"s3.access-key-id\": s3_access_key_id,\n",
    "                \"s3.secret-access-key\": s3_secret_access_key,\n",
    "                \"type\": catalog_type,\n",
    "            },\n",
    "        )\n",
    "\n",
    "print(branch)"
   ]
  },
  {
   "cell_type": "code",
   "execution_count": 60,
   "id": "aa0218b5-46dd-444d-b1d0-33ffeeb6ee47",
   "metadata": {},
   "outputs": [
    {
     "data": {
      "text/plain": [
       "[('staging', 'cit0day_password_files')]"
      ]
     },
     "execution_count": 60,
     "metadata": {},
     "output_type": "execute_result"
    }
   ],
   "source": [
    "catalog.list_tables(\"staging\")"
   ]
  },
  {
   "cell_type": "code",
   "execution_count": 61,
   "id": "de2e8497-3a3a-47b9-bb90-fcd66b97a85f",
   "metadata": {},
   "outputs": [],
   "source": [
    "#table = catalog.drop_table(\"staging.cit0day_password_files\")"
   ]
  },
  {
   "cell_type": "markdown",
   "id": "1b5a9a52-2b27-416f-bc20-77fc28402e74",
   "metadata": {},
   "source": [
    "# Query the Data"
   ]
  },
  {
   "cell_type": "code",
   "execution_count": 62,
   "id": "706e42a4-dfd6-4b8d-b88b-4779113a47c5",
   "metadata": {},
   "outputs": [],
   "source": [
    "table = catalog.load_table(\"staging.cit0day_password_files\")"
   ]
  },
  {
   "cell_type": "code",
   "execution_count": 63,
   "id": "6cf083cc-7988-4f5f-9ea1-0eeb7f18ce67",
   "metadata": {},
   "outputs": [],
   "source": [
    "con = table.scan(limit=1000).to_duckdb(table_name=\"cit0day_password_files\")\n",
    "df = pl.DataFrame(con.execute(\n",
    "        \"select * from cit0day_password_files\"\n",
    "    ).fetch_arrow_table())"
   ]
  },
  {
   "cell_type": "code",
   "execution_count": 64,
   "id": "1c79a4ea-ece3-4857-9481-ad3163ad95d8",
   "metadata": {},
   "outputs": [
    {
     "name": "stdout",
     "output_type": "stream",
     "text": [
      "shape: (1_000, 7)\n",
      "┌────────────────┬───────────────┬───────────────┬─────────────┬────────┬───────────────┬──────────┐\n",
      "│ email          ┆ username      ┆ domain        ┆ data        ┆ bucket ┆ prefix        ┆ category │\n",
      "│ ---            ┆ ---           ┆ ---           ┆ ---         ┆ ---    ┆ ---           ┆ ---      │\n",
      "│ str            ┆ str           ┆ str           ┆ str         ┆ str    ┆ str           ┆ str      │\n",
      "╞════════════════╪═══════════════╪═══════════════╪═════════════╪════════╪═══════════════╪══════════╡\n",
      "│ yadihomefurnit ┆ yadihomefurni ┆ 02zillions.co ┆ afobycyc    ┆ raw    ┆ extracted/Cit ┆ Business │\n",
      "│ ures@02zillion ┆ tures         ┆ m             ┆             ┆        ┆ 0day Prem     ┆          │\n",
      "│ s.…            ┆               ┆               ┆             ┆        ┆ [_speci…      ┆          │\n",
      "│ kerrycavill@08 ┆ kerrycavill   ┆ 0815.ru       ┆ WN9AAiln    ┆ raw    ┆ extracted/Cit ┆ Business │\n",
      "│ 15.ru          ┆               ┆               ┆             ┆        ┆ 0day Prem     ┆          │\n",
      "│                ┆               ┆               ┆             ┆        ┆ [_speci…      ┆          │\n",
      "│ moisescowlisha ┆ moisescowlish ┆ 0815.ru       ┆ mAT2T8eH    ┆ raw    ┆ extracted/Cit ┆ Business │\n",
      "│ w2676@0815.ru  ┆ aw2676        ┆               ┆             ┆        ┆ 0day Prem     ┆          │\n",
      "│                ┆               ┆               ┆             ┆        ┆ [_speci…      ┆          │\n",
      "│ 4dqwjafcsfbk@1 ┆ 4dqwjafcsfbk  ┆ 10minut.compl ┆ szakalaka50 ┆ raw    ┆ extracted/Cit ┆ Business │\n",
      "│ 0minut.compl   ┆               ┆               ┆             ┆        ┆ 0day Prem     ┆          │\n",
      "│                ┆               ┆               ┆             ┆        ┆ [_speci…      ┆          │\n",
      "│ zxj910361985@1 ┆ zxj910361985  ┆ 126.cm        ┆ LoVe15O926  ┆ raw    ┆ extracted/Cit ┆ Business │\n",
      "│ 26.cm          ┆               ┆               ┆             ┆        ┆ 0day Prem     ┆          │\n",
      "│                ┆               ┆               ┆             ┆        ┆ [_speci…      ┆          │\n",
      "│ …              ┆ …             ┆ …             ┆ …           ┆ …      ┆ …             ┆ …        │\n",
      "│ evelyntipper16 ┆ evelyntipper1 ┆ brennendesrei ┆ 8kmp4VGK    ┆ raw    ┆ extracted/Cit ┆ Business │\n",
      "│ 65@brennendesr ┆ 665           ┆ ch.de         ┆             ┆        ┆ 0day Prem     ┆          │\n",
      "│ ei…            ┆               ┆               ┆             ┆        ┆ [_speci…      ┆          │\n",
      "│ brian@briancen ┆ brian         ┆ briancentral. ┆ g0ddess221  ┆ raw    ┆ extracted/Cit ┆ Business │\n",
      "│ tral.com       ┆               ┆ com           ┆             ┆        ┆ 0day Prem     ┆          │\n",
      "│                ┆               ┆               ┆             ┆        ┆ [_speci…      ┆          │\n",
      "│ dic7@bridge.oc ┆ dic7          ┆ bridge.ocn.ne ┆ kh2651      ┆ raw    ┆ extracted/Cit ┆ Business │\n",
      "│ n.ne.jp        ┆               ┆ .jp           ┆             ┆        ┆ 0day Prem     ┆          │\n",
      "│                ┆               ┆               ┆             ┆        ┆ [_speci…      ┆          │\n",
      "│ bob.w@browning ┆ bob.w         ┆ browningoil.c ┆ 1bitzer1    ┆ raw    ┆ extracted/Cit ┆ Business │\n",
      "│ oil.com        ┆               ┆ om            ┆             ┆        ┆ 0day Prem     ┆          │\n",
      "│                ┆               ┆               ┆             ┆        ┆ [_speci…      ┆          │\n",
      "│ tangerd@buckey ┆ tangerd       ┆ buckeye-expre ┆ mccurry1    ┆ raw    ┆ extracted/Cit ┆ Business │\n",
      "│ e-express.com  ┆               ┆ ss.com        ┆             ┆        ┆ 0day Prem     ┆          │\n",
      "│                ┆               ┆               ┆             ┆        ┆ [_speci…      ┆          │\n",
      "└────────────────┴───────────────┴───────────────┴─────────────┴────────┴───────────────┴──────────┘\n"
     ]
    }
   ],
   "source": [
    "print(df)"
   ]
  },
  {
   "cell_type": "code",
   "execution_count": 50,
   "id": "54cdeb39-994b-4e8a-a3cf-0336233ab2d2",
   "metadata": {},
   "outputs": [
    {
     "data": {
      "text/plain": [
       "'extracted/Cit0day Prem [_special_for_xss.is]/0-deductible-offer.ca {6.992} [HASH+NOHASH] (NoCategory)_special_for_XSS.IS/0-deductible-offer.ca {6.992} decrypted.txt'"
      ]
     },
     "execution_count": 50,
     "metadata": {},
     "output_type": "execute_result"
    }
   ],
   "source": [
    "df[\"prefix\"][0]"
   ]
  },
  {
   "cell_type": "code",
   "execution_count": null,
   "id": "618451ad-e099-4b92-b02c-76618304142f",
   "metadata": {},
   "outputs": [],
   "source": []
  }
 ],
 "metadata": {
  "kernelspec": {
   "display_name": "Python 3 (ipykernel)",
   "language": "python",
   "name": "python3"
  },
  "language_info": {
   "codemirror_mode": {
    "name": "ipython",
    "version": 3
   },
   "file_extension": ".py",
   "mimetype": "text/x-python",
   "name": "python",
   "nbconvert_exporter": "python",
   "pygments_lexer": "ipython3",
   "version": "3.12.4"
  }
 },
 "nbformat": 4,
 "nbformat_minor": 5
}
