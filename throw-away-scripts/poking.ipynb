{
 "cells": [
  {
   "cell_type": "code",
   "execution_count": 37,
   "id": "4d616dae-da7a-4c47-b9d0-dc2ed680b004",
   "metadata": {
    "scrolled": true
   },
   "outputs": [
    {
     "name": "stdout",
     "output_type": "stream",
     "text": [
      "feat-update-schema\n"
     ]
    }
   ],
   "source": [
    "from dagster import EnvVar\n",
    "from pyiceberg.catalog import Catalog, load_catalog\n",
    "\n",
    "name = \"default\"\n",
    "warehouse = EnvVar(\"NESSIE_WAREHOUSE\").get_value()\n",
    "branch = EnvVar(\"NESSIE_BRANCH\").get_value()\n",
    "uri = EnvVar(\"NESSIE_URI\").get_value()\n",
    "py_io_impl = \"pyiceberg.io.pyarrow.PyArrowFileIO\"\n",
    "s3_endpoint = EnvVar(\"DESTINATION__FILESYSTEM__CREDENTIALS__AWS_S3_ENDPOINT\").get_value()\n",
    "s3_access_key_id = EnvVar(\n",
    "    \"DESTINATION__FILESYSTEM__CREDENTIALS__AWS_ACCESS_KEY_ID\"\n",
    ").get_value()\n",
    "s3_secret_access_key = EnvVar(\n",
    "    \"DESTINATION__FILESYSTEM__CREDENTIALS__AWS_SECRET_ACCESS_KEY\"\n",
    ").get_value()\n",
    "catalog_type = \"rest\"\n",
    "catalog = load_catalog(\n",
    "            **{\n",
    "                \"warehouse\": warehouse,\n",
    "                \"uri\": f\"{uri}/{branch}\",\n",
    "                \"py-io-impl\": py_io_impl,\n",
    "                \"s3.endpoint\": s3_endpoint,\n",
    "                \"s3.access-key-id\": s3_access_key_id,\n",
    "                \"s3.secret-access-key\": s3_secret_access_key,\n",
    "                \"type\": catalog_type,\n",
    "            },\n",
    "        )\n",
    "\n",
    "print(branch)"
   ]
  },
  {
   "cell_type": "code",
   "execution_count": 40,
   "id": "aa0218b5-46dd-444d-b1d0-33ffeeb6ee47",
   "metadata": {},
   "outputs": [
    {
     "data": {
      "text/plain": [
       "[]"
      ]
     },
     "execution_count": 40,
     "metadata": {},
     "output_type": "execute_result"
    }
   ],
   "source": [
    "catalog.list_tables(\"staging\")"
   ]
  },
  {
   "cell_type": "code",
   "execution_count": 39,
   "id": "de2e8497-3a3a-47b9-bb90-fcd66b97a85f",
   "metadata": {},
   "outputs": [],
   "source": [
    "table = catalog.drop_table(\"staging.cit0day_password_files\")"
   ]
  },
  {
   "cell_type": "markdown",
   "id": "1b5a9a52-2b27-416f-bc20-77fc28402e74",
   "metadata": {},
   "source": [
    "# Query the Data"
   ]
  },
  {
   "cell_type": "code",
   "execution_count": 29,
   "id": "706e42a4-dfd6-4b8d-b88b-4779113a47c5",
   "metadata": {},
   "outputs": [],
   "source": [
    "table = catalog.load_table(\"staging.cit0day_password_files\")"
   ]
  },
  {
   "cell_type": "code",
   "execution_count": 30,
   "id": "1d1ea122-a715-4f1e-a852-19a6cd22aab5",
   "metadata": {},
   "outputs": [
    {
     "name": "stdout",
     "output_type": "stream",
     "text": [
      "shape: (50, 6)\n",
      "┌──────────────────┬──────────────────┬─────────────┬──────────────────┬────────┬──────────────────┐\n",
      "│ email            ┆ username         ┆ domain      ┆ data             ┆ bucket ┆ prefix           │\n",
      "│ ---              ┆ ---              ┆ ---         ┆ ---              ┆ ---    ┆ ---              │\n",
      "│ str              ┆ str              ┆ str         ┆ str              ┆ str    ┆ str              │\n",
      "╞══════════════════╪══════════════════╪═════════════╪══════════════════╪════════╪══════════════════╡\n",
      "│ 0006diana06love0 ┆ 0006diana06love0 ┆ ya.ru       ┆ a98ce02c9b0077fa ┆ raw    ┆ extracted/Cit0da │\n",
      "│ 6@ya.ru          ┆ 6                ┆             ┆ 618ae812b80698…  ┆        ┆ y Prem [_speci…  │\n",
      "│ 0079817235269@ya ┆ 0079817235269    ┆ ya.ru       ┆ 91b40499a08f6d6f ┆ raw    ┆ extracted/Cit0da │\n",
      "│ .ru              ┆                  ┆             ┆ 689c113bf43056…  ┆        ┆ y Prem [_speci…  │\n",
      "│ 00zum.a11@ya.ru  ┆ 00zum.a11        ┆ ya.ru       ┆ 00zuma11         ┆ raw    ┆ extracted/Cit0da │\n",
      "│                  ┆                  ┆             ┆                  ┆        ┆ y Prem [_speci…  │\n",
      "│ 01055507414@nave ┆ 01055507414      ┆ naver.com   ┆ 1589632z         ┆ raw    ┆ extracted/Cit0da │\n",
      "│ r.com            ┆                  ┆             ┆                  ┆        ┆ y Prem [_speci…  │\n",
      "│ 01055755402@hanm ┆ 01055755402      ┆ hanmail.net ┆ 54b5a9fed19291d5 ┆ raw    ┆ extracted/Cit0da │\n",
      "│ ail.net          ┆                  ┆             ┆ 239382826bf976…  ┆        ┆ y Prem [_speci…  │\n",
      "│ …                ┆ …                ┆ …           ┆ …                ┆ …      ┆ …                │\n",
      "│ 1195036917@qq.co ┆ 1195036917       ┆ qq.com      ┆ bian9393         ┆ raw    ┆ extracted/Cit0da │\n",
      "│ m                ┆                  ┆             ┆                  ┆        ┆ y Prem [_speci…  │\n",
      "│ 1199041766@qq.co ┆ 1199041766       ┆ qq.com      ┆ 81f8862638c3f1a9 ┆ raw    ┆ extracted/Cit0da │\n",
      "│ m                ┆                  ┆             ┆ 35cf6fe1004b0b…  ┆        ┆ y Prem [_speci…  │\n",
      "│ 120155001@qq.com ┆ 120155001        ┆ qq.com      ┆ woshimjj0.       ┆ raw    ┆ extracted/Cit0da │\n",
      "│                  ┆                  ┆             ┆                  ┆        ┆ y Prem [_speci…  │\n",
      "│ 121171010@qq.com ┆ 121171010        ┆ qq.com      ┆ Hsckci521        ┆ raw    ┆ extracted/Cit0da │\n",
      "│                  ┆                  ┆             ┆                  ┆        ┆ y Prem [_speci…  │\n",
      "│ 121338236@qq.com ┆ 121338236        ┆ qq.com      ┆ WFY2myself       ┆ raw    ┆ extracted/Cit0da │\n",
      "│                  ┆                  ┆             ┆                  ┆        ┆ y Prem [_speci…  │\n",
      "└──────────────────┴──────────────────┴─────────────┴──────────────────┴────────┴──────────────────┘\n"
     ]
    }
   ],
   "source": [
    "con = table.scan(limit=50).to_duckdb(table_name=\"cit0day_password_files\")\n",
    "print(pl.DataFrame(con.execute(\n",
    "        \"select * from cit0day_password_files\"\n",
    "    ).fetch_arrow_table()))"
   ]
  },
  {
   "cell_type": "code",
   "execution_count": null,
   "id": "54cdeb39-994b-4e8a-a3cf-0336233ab2d2",
   "metadata": {},
   "outputs": [],
   "source": []
  }
 ],
 "metadata": {
  "kernelspec": {
   "display_name": "Python 3 (ipykernel)",
   "language": "python",
   "name": "python3"
  },
  "language_info": {
   "codemirror_mode": {
    "name": "ipython",
    "version": 3
   },
   "file_extension": ".py",
   "mimetype": "text/x-python",
   "name": "python",
   "nbconvert_exporter": "python",
   "pygments_lexer": "ipython3",
   "version": "3.12.4"
  }
 },
 "nbformat": 4,
 "nbformat_minor": 5
}
