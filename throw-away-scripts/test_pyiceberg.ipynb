{
 "cells": [
  {
   "cell_type": "code",
   "execution_count": 11,
   "id": "3d03d047-689a-46ea-afbc-15183f606d1d",
   "metadata": {},
   "outputs": [
    {
     "ename": "ImportError",
     "evalue": "cannot import name 'Like' from 'pyiceberg.expressions' (/nix/store/awxhg7iaraqx35nfyz2q66qvd65al0wm-python3-3.12.4-env/lib/python3.12/site-packages/pyiceberg/expressions/__init__.py)",
     "output_type": "error",
     "traceback": [
      "\u001b[0;31m---------------------------------------------------------------------------\u001b[0m",
      "\u001b[0;31mImportError\u001b[0m                               Traceback (most recent call last)",
      "Cell \u001b[0;32mIn[11], line 4\u001b[0m\n\u001b[1;32m      1\u001b[0m \u001b[38;5;28;01mfrom\u001b[39;00m \u001b[38;5;21;01mpyiceberg\u001b[39;00m\u001b[38;5;21;01m.\u001b[39;00m\u001b[38;5;21;01mcatalog\u001b[39;00m\u001b[38;5;21;01m.\u001b[39;00m\u001b[38;5;21;01msql\u001b[39;00m \u001b[38;5;28;01mimport\u001b[39;00m SqlCatalog\n\u001b[1;32m      2\u001b[0m \u001b[38;5;28;01mfrom\u001b[39;00m \u001b[38;5;21;01mpyiceberg\u001b[39;00m\u001b[38;5;21;01m.\u001b[39;00m\u001b[38;5;21;01mcatalog\u001b[39;00m \u001b[38;5;28;01mimport\u001b[39;00m load_catalog\n\u001b[0;32m----> 4\u001b[0m \u001b[38;5;28;01mfrom\u001b[39;00m \u001b[38;5;21;01mpyiceberg\u001b[39;00m\u001b[38;5;21;01m.\u001b[39;00m\u001b[38;5;21;01mexpressions\u001b[39;00m \u001b[38;5;28;01mimport\u001b[39;00m Like\n\u001b[1;32m      5\u001b[0m \u001b[38;5;28;01mimport\u001b[39;00m \u001b[38;5;21;01mos\u001b[39;00m\n",
      "\u001b[0;31mImportError\u001b[0m: cannot import name 'Like' from 'pyiceberg.expressions' (/nix/store/awxhg7iaraqx35nfyz2q66qvd65al0wm-python3-3.12.4-env/lib/python3.12/site-packages/pyiceberg/expressions/__init__.py)"
     ]
    }
   ],
   "source": [
    "from pyiceberg.catalog.sql import SqlCatalog\n",
    "from pyiceberg.catalog import load_catalog\n",
    "import os"
   ]
  },
  {
   "cell_type": "code",
   "execution_count": 13,
   "id": "c9ba35cd-a70e-4af8-83b1-1fe55cd14748",
   "metadata": {},
   "outputs": [],
   "source": [
    "import pyiceberg.expressions as ex"
   ]
  },
  {
   "cell_type": "code",
   "execution_count": 14,
   "id": "76380a63-292d-4811-be5a-6690481c06a7",
   "metadata": {},
   "outputs": [
    {
     "data": {
      "text/plain": [
       "\u001b[0;31mType:\u001b[0m        module\n",
       "\u001b[0;31mString form:\u001b[0m <module 'pyiceberg.expressions' from '/nix/store/awxhg7iaraqx35nfyz2q66qvd65al0wm-python3-3.12.4-env/lib/python3.12/site-packages/pyiceberg/expressions/__init__.py'>\n",
       "\u001b[0;31mFile:\u001b[0m        /nix/store/awxhg7iaraqx35nfyz2q66qvd65al0wm-python3-3.12.4-env/lib/python3.12/site-packages/pyiceberg/expressions/__init__.py\n",
       "\u001b[0;31mDocstring:\u001b[0m   <no docstring>"
      ]
     },
     "metadata": {},
     "output_type": "display_data"
    }
   ],
   "source": [
    "ex?"
   ]
  },
  {
   "cell_type": "code",
   "execution_count": 3,
   "id": "cadec931-3de0-42e7-9945-e8c8b8823300",
   "metadata": {},
   "outputs": [
    {
     "name": "stdout",
     "output_type": "stream",
     "text": [
      "s3://dev/wh\n"
     ]
    }
   ],
   "source": [
    "print(os.getenv(\"DESTINATION__CATALOG__WAREHOUSE\"))"
   ]
  },
  {
   "cell_type": "code",
   "execution_count": 4,
   "id": "0ec5f5d8-5870-4c4a-9d3a-a93f3ab6710e",
   "metadata": {
    "scrolled": true
   },
   "outputs": [],
   "source": [
    "catalog = load_catalog(\"default\",\n",
    "           **{\n",
    "             \"warehouse\": os.getenv(\"DESTINATION__CATALOG__WAREHOUSE\"),\n",
    "              \"uri\": os.getenv(\"DESTINATION__CATALOG__URI\"),\n",
    "              \"py-io-impl\": \"pyiceberg.io.pyarrow.PyArrowFileIO\",\n",
    "              \"s3.endpoint\": os.getenv(\"DESTINATION__CATALOG__S3_ENDPOINT\"),\n",
    "              \"s3.access-key-id\": os.getenv(\"DESTINATION__CATALOG__ACCESS_KEY_ID\"),\n",
    "              \"s3.secret-access-key\": os.getenv(\"DESTINATION__CATALOG__SECRET_ACCESS_KEY\"),\n",
    "              \"type\": os.getenv(\"DESTINATION__CATALOG__TYPE\")\n",
    "    })"
   ]
  },
  {
   "cell_type": "code",
   "execution_count": 5,
   "id": "dcb938d1",
   "metadata": {},
   "outputs": [
    {
     "data": {
      "text/plain": [
       "[('staging', 'cit0day_password_files')]"
      ]
     },
     "execution_count": 5,
     "metadata": {},
     "output_type": "execute_result"
    }
   ],
   "source": [
    "catalog.list_tables(\"staging\")"
   ]
  },
  {
   "cell_type": "code",
   "execution_count": 6,
   "id": "7700238a",
   "metadata": {},
   "outputs": [],
   "source": [
    "table = catalog.load_table(\"staging.cit0day_password_files\")"
   ]
  },
  {
   "cell_type": "code",
   "execution_count": 7,
   "id": "b423b82f",
   "metadata": {},
   "outputs": [
    {
     "data": {
      "text/plain": [
       "cit0day_password_files(\n",
       "  1: email: optional string,\n",
       "  2: data: optional string,\n",
       "  3: bucket: optional string,\n",
       "  4: prefix: optional string\n",
       "),\n",
       "partition by: [],\n",
       "sort order: [],\n",
       "snapshot: Operation.APPEND: id=410409763848173867, parent_id=8675984107256755899, schema_id=0"
      ]
     },
     "execution_count": 7,
     "metadata": {},
     "output_type": "execute_result"
    }
   ],
   "source": [
    "table"
   ]
  },
  {
   "cell_type": "code",
   "execution_count": 9,
   "id": "adfa0bcb-11b5-4d8c-a8c5-0be35d8b22de",
   "metadata": {},
   "outputs": [
    {
     "name": "stderr",
     "output_type": "stream",
     "text": [
      "/nix/store/awxhg7iaraqx35nfyz2q66qvd65al0wm-python3-3.12.4-env/lib/python3.12/site-packages/pyiceberg/avro/decoder.py:185: UserWarning: Falling back to pure Python Avro decoder, missing Cython implementation\n",
      "  warnings.warn(\"Falling back to pure Python Avro decoder, missing Cython implementation\")\n"
     ]
    },
    {
     "data": {
      "text/plain": [
       "pyarrow.Table\n",
       "record_count: int64 not null\n",
       "file_count: int32 not null\n",
       "total_data_file_size_in_bytes: int64 not null\n",
       "position_delete_record_count: int64 not null\n",
       "position_delete_file_count: int32 not null\n",
       "equality_delete_record_count: int64 not null\n",
       "equality_delete_file_count: int32 not null\n",
       "last_updated_at: timestamp[ms]\n",
       "last_updated_snapshot_id: int64\n",
       "----\n",
       "record_count: [[28531450]]\n",
       "file_count: [[2507]]\n",
       "total_data_file_size_in_bytes: [[767957032]]\n",
       "position_delete_record_count: [[0]]\n",
       "position_delete_file_count: [[0]]\n",
       "equality_delete_record_count: [[0]]\n",
       "equality_delete_file_count: [[0]]\n",
       "last_updated_at: [[2024-09-16 08:05:00.411]]\n",
       "last_updated_snapshot_id: [[410409763848173867]]"
      ]
     },
     "execution_count": 9,
     "metadata": {},
     "output_type": "execute_result"
    }
   ],
   "source": [
    "table.inspect.partitions()"
   ]
  },
  {
   "cell_type": "code",
   "execution_count": 18,
   "id": "56c1950b",
   "metadata": {},
   "outputs": [
    {
     "data": {
      "text/html": [
       "<div><style>\n",
       ".dataframe > thead > tr,\n",
       ".dataframe > tbody > tr {\n",
       "  text-align: right;\n",
       "  white-space: pre-wrap;\n",
       "}\n",
       "</style>\n",
       "<small>shape: (0, 4)</small><table border=\"1\" class=\"dataframe\"><thead><tr><th>email</th><th>data</th><th>bucket</th><th>prefix</th></tr><tr><td>str</td><td>str</td><td>str</td><td>str</td></tr></thead><tbody></tbody></table></div>"
      ],
      "text/plain": [
       "shape: (0, 4)\n",
       "┌───────┬──────┬────────┬────────┐\n",
       "│ email ┆ data ┆ bucket ┆ prefix │\n",
       "│ ---   ┆ ---  ┆ ---    ┆ ---    │\n",
       "│ str   ┆ str  ┆ str    ┆ str    │\n",
       "╞═══════╪══════╪════════╪════════╡\n",
       "└───────┴──────┴────────┴────────┘"
      ]
     },
     "execution_count": 18,
     "metadata": {},
     "output_type": "execute_result"
    }
   ],
   "source": [
    "import polars as pl\n",
    "df = table.scan(\n",
    "    row_filter=ex.StartsWith(\"email\", \"alexander.reinthal\"),\n",
    "    selected_fields=(\"email\", \"data\", \"bucket\", \"prefix\"),\n",
    ").to_arrow()\n",
    "pl_df = pl.from_arrow(df)\n",
    "pl_df"
   ]
  },
  {
   "cell_type": "code",
   "execution_count": 15,
   "id": "5d42437f",
   "metadata": {},
   "outputs": [
    {
     "data": {
      "text/plain": [
       "pyarrow.Table\n",
       "email: large_string\n",
       "data: large_string\n",
       "bucket: large_string\n",
       "prefix: large_string\n",
       "----\n",
       "email: [[\"116crisco01@gmail.com\",\"11brownjblueberry@gmail.com\",\"1290lmw@gmail.com\",\"1986lonewanderer@gmail.com\",\"1998denk@gmail.com\",...,\"yaysesungur@gmail.com\",\"yolandajones1@yahoo.com\",\"zackpiper96@gmail.com\",\"zombiekat92@icloud.com\",\"zparks26@gmail.com\"],[\"Acm79@outlook.com\",\"Adrian.jarvis@astrazeneca.com\",\"Akojanatkinson@hotmail.com\",\"Alan.Southern@liverpool.ac.uk\",\"Andy.Perrin@Ringway.co.uk\",...,\"welfare@farnboroughyouthfc.co.uk\",\"wilwilko@tiscali.co.uk\",\"wittonssewildcats@gmail.com\",\"yozza.hughes@hotmail.co.uk\",\"z.macc74@gmail.com\"],...,[\"030755tioncelso@libero.it\",\"0803351@rgu.ac.uk\",\"0tr38x4w21j530a@au.com\",\"1-2step@hanmail.net\",\"1013545349@qq.com\",...,\"zondar105@gmail.com\",\"zuleymacastillo@outlook.com\",\"zwbq290@yeah.net\",\"zxlqw321@yahoo.co.jp\",\"zzz13@mailinator.com\"],[\"-alfkzmf@hanmail.net\",\"01697447065@hanmail.net\",\"030755tioncelso@libero.it\",\"06071995@yahoo.com\",\"0803351@rgu.ac.uk\",...,\"zxlqw321@yahoo.co.jp\",\"zytov@ya.ru\",\"zzima.com_1997@mail.ru\",\"zzq717197@sina.com\",\"zzz13@mailinator.com\"]]\n",
       "data: [[\"nucpuK-vexnyk-3covvu\",\"Jibbajabba123\",\"llmmww00113388\",\"harmon1986\",\"blackstar1998\",...,\"yaysesungur18181818\",\"spot1234\",\"Guccimane1017\",\"surfer6\",\"Vulpes512\"],[\"f3e4468930920211d314ed8d2801cb32\",\"7f7bbe34a505de74d177334baf108385\",\"71fb6d346e5cfa3062c006f3657eff99\",\"ce391fcea6cacfe25f8012a77604c8c8\",\"44887e074d3bf0a8e86978167cf46d2e\",...,\"6c7a36bebf3fe585cef066a7f7871125\",\"4500a8a230578c22443310b106ea3234\",\"f1ff81478659cf5100f1d2141d6ad734\",\"c47cf0031f878deba092414fc1ffeeb4\",\"3ee71770d7c6f5aa488b46411164d3ad\"],...,[\"benzi\",\"mrn65bbz\",\"1fd5bdc1\",\"qhfktor\",\"xinrui521\",...,\"zondar105\",\"Mayorga951\",\"rhxcme\",\"qrqr0\",\"serajiku\"],[\"hong11\",\"f589268e200873d92524e54b71fa0ee5\",\"51b4661e2beb347361fee7cec6ca3900\",\"bandit11201\",\"579e5188c89cd3cf9817d8d6bc13c515\",...,\"abcd4668e4956a5c03af49f267cedb89\",\"d65a5395c71a8eae023c96a75bf1902c\",\"19961108dd\",\"auolid\",\"1656f73b6addeb256326a399bb11b17f\"]]\n",
       "bucket: [[\"raw\",\"raw\",\"raw\",\"raw\",\"raw\",...,\"raw\",\"raw\",\"raw\",\"raw\",\"raw\"],[\"raw\",\"raw\",\"raw\",\"raw\",\"raw\",...,\"raw\",\"raw\",\"raw\",\"raw\",\"raw\"],...,[\"raw\",\"raw\",\"raw\",\"raw\",\"raw\",...,\"raw\",\"raw\",\"raw\",\"raw\",\"raw\"],[\"raw\",\"raw\",\"raw\",\"raw\",\"raw\",...,\"raw\",\"raw\",\"raw\",\"raw\",\"raw\"]]\n",
       "prefix: [[\"Cit0/Cit0day.in_special_for_xss.is/Cit0day Prem [_special_for_xss.is]/congoembassyusa.com {874} [NOHASH] (Business)_special_for_XSS.IS.rar/congoembassyusa.com {874} [NOHASH].txt\",\"Cit0/Cit0day.in_special_for_xss.is/Cit0day Prem [_special_for_xss.is]/congoembassyusa.com {874} [NOHASH] (Business)_special_for_XSS.IS.rar/congoembassyusa.com {874} [NOHASH].txt\",\"Cit0/Cit0day.in_special_for_xss.is/Cit0day Prem [_special_for_xss.is]/congoembassyusa.com {874} [NOHASH] (Business)_special_for_XSS.IS.rar/congoembassyusa.com {874} [NOHASH].txt\",\"Cit0/Cit0day.in_special_for_xss.is/Cit0day Prem [_special_for_xss.is]/congoembassyusa.com {874} [NOHASH] (Business)_special_for_XSS.IS.rar/congoembassyusa.com {874} [NOHASH].txt\",\"Cit0/Cit0day.in_special_for_xss.is/Cit0day Prem [_special_for_xss.is]/congoembassyusa.com {874} [NOHASH] (Business)_special_for_XSS.IS.rar/congoembassyusa.com {874} [NOHASH].txt\",...,\"Cit0/Cit0day.in_special_for_xss.is/Cit0day Prem [_special_for_xss.is]/congoembassyusa.com {874} [NOHASH] (Business)_special_for_XSS.IS.rar/congoembassyusa.com {874} [NOHASH].txt\",\"Cit0/Cit0day.in_special_for_xss.is/Cit0day Prem [_special_for_xss.is]/congoembassyusa.com {874} [NOHASH] (Business)_special_for_XSS.IS.rar/congoembassyusa.com {874} [NOHASH].txt\",\"Cit0/Cit0day.in_special_for_xss.is/Cit0day Prem [_special_for_xss.is]/congoembassyusa.com {874} [NOHASH] (Business)_special_for_XSS.IS.rar/congoembassyusa.com {874} [NOHASH].txt\",\"Cit0/Cit0day.in_special_for_xss.is/Cit0day Prem [_special_for_xss.is]/congoembassyusa.com {874} [NOHASH] (Business)_special_for_XSS.IS.rar/congoembassyusa.com {874} [NOHASH].txt\",\"Cit0/Cit0day.in_special_for_xss.is/Cit0day Prem [_special_for_xss.is]/congoembassyusa.com {874} [NOHASH] (Business)_special_for_XSS.IS.rar/congoembassyusa.com {874} [NOHASH].txt\"],[\"Cit0/Cit0day.in_special_for_xss.is/Cit0day Prem [_special_for_xss.is]/congletonrovers.co.uk {1.742} [HASH+NOHASH] (Sports)_special_for_XSS.IS.rar/congletonrovers.co.uk {1.742} not found.txt\",\"Cit0/Cit0day.in_special_for_xss.is/Cit0day Prem [_special_for_xss.is]/congletonrovers.co.uk {1.742} [HASH+NOHASH] (Sports)_special_for_XSS.IS.rar/congletonrovers.co.uk {1.742} not found.txt\",\"Cit0/Cit0day.in_special_for_xss.is/Cit0day Prem [_special_for_xss.is]/congletonrovers.co.uk {1.742} [HASH+NOHASH] (Sports)_special_for_XSS.IS.rar/congletonrovers.co.uk {1.742} not found.txt\",\"Cit0/Cit0day.in_special_for_xss.is/Cit0day Prem [_special_for_xss.is]/congletonrovers.co.uk {1.742} [HASH+NOHASH] (Sports)_special_for_XSS.IS.rar/congletonrovers.co.uk {1.742} not found.txt\",\"Cit0/Cit0day.in_special_for_xss.is/Cit0day Prem [_special_for_xss.is]/congletonrovers.co.uk {1.742} [HASH+NOHASH] (Sports)_special_for_XSS.IS.rar/congletonrovers.co.uk {1.742} not found.txt\",...,\"Cit0/Cit0day.in_special_for_xss.is/Cit0day Prem [_special_for_xss.is]/congletonrovers.co.uk {1.742} [HASH+NOHASH] (Sports)_special_for_XSS.IS.rar/congletonrovers.co.uk {1.742} not found.txt\",\"Cit0/Cit0day.in_special_for_xss.is/Cit0day Prem [_special_for_xss.is]/congletonrovers.co.uk {1.742} [HASH+NOHASH] (Sports)_special_for_XSS.IS.rar/congletonrovers.co.uk {1.742} not found.txt\",\"Cit0/Cit0day.in_special_for_xss.is/Cit0day Prem [_special_for_xss.is]/congletonrovers.co.uk {1.742} [HASH+NOHASH] (Sports)_special_for_XSS.IS.rar/congletonrovers.co.uk {1.742} not found.txt\",\"Cit0/Cit0day.in_special_for_xss.is/Cit0day Prem [_special_for_xss.is]/congletonrovers.co.uk {1.742} [HASH+NOHASH] (Sports)_special_for_XSS.IS.rar/congletonrovers.co.uk {1.742} not found.txt\",\"Cit0/Cit0day.in_special_for_xss.is/Cit0day Prem [_special_for_xss.is]/congletonrovers.co.uk {1.742} [HASH+NOHASH] (Sports)_special_for_XSS.IS.rar/congletonrovers.co.uk {1.742} not found.txt\"],...,[\"Cit0/Cit0day.in_special_for_xss.is/Cit0day Prem [_special_for_xss.is]/0-de-franchise.ca {6.584} [HASH+NOHASH] (NoCategory)_special_for_XSS.IS.rar/0-de-franchise.ca {6.584} decrypted.txt\",\"Cit0/Cit0day.in_special_for_xss.is/Cit0day Prem [_special_for_xss.is]/0-de-franchise.ca {6.584} [HASH+NOHASH] (NoCategory)_special_for_XSS.IS.rar/0-de-franchise.ca {6.584} decrypted.txt\",\"Cit0/Cit0day.in_special_for_xss.is/Cit0day Prem [_special_for_xss.is]/0-de-franchise.ca {6.584} [HASH+NOHASH] (NoCategory)_special_for_XSS.IS.rar/0-de-franchise.ca {6.584} decrypted.txt\",\"Cit0/Cit0day.in_special_for_xss.is/Cit0day Prem [_special_for_xss.is]/0-de-franchise.ca {6.584} [HASH+NOHASH] (NoCategory)_special_for_XSS.IS.rar/0-de-franchise.ca {6.584} decrypted.txt\",\"Cit0/Cit0day.in_special_for_xss.is/Cit0day Prem [_special_for_xss.is]/0-de-franchise.ca {6.584} [HASH+NOHASH] (NoCategory)_special_for_XSS.IS.rar/0-de-franchise.ca {6.584} decrypted.txt\",...,\"Cit0/Cit0day.in_special_for_xss.is/Cit0day Prem [_special_for_xss.is]/0-de-franchise.ca {6.584} [HASH+NOHASH] (NoCategory)_special_for_XSS.IS.rar/0-de-franchise.ca {6.584} decrypted.txt\",\"Cit0/Cit0day.in_special_for_xss.is/Cit0day Prem [_special_for_xss.is]/0-de-franchise.ca {6.584} [HASH+NOHASH] (NoCategory)_special_for_XSS.IS.rar/0-de-franchise.ca {6.584} decrypted.txt\",\"Cit0/Cit0day.in_special_for_xss.is/Cit0day Prem [_special_for_xss.is]/0-de-franchise.ca {6.584} [HASH+NOHASH] (NoCategory)_special_for_XSS.IS.rar/0-de-franchise.ca {6.584} decrypted.txt\",\"Cit0/Cit0day.in_special_for_xss.is/Cit0day Prem [_special_for_xss.is]/0-de-franchise.ca {6.584} [HASH+NOHASH] (NoCategory)_special_for_XSS.IS.rar/0-de-franchise.ca {6.584} decrypted.txt\",\"Cit0/Cit0day.in_special_for_xss.is/Cit0day Prem [_special_for_xss.is]/0-de-franchise.ca {6.584} [HASH+NOHASH] (NoCategory)_special_for_XSS.IS.rar/0-de-franchise.ca {6.584} decrypted.txt\"],[\"Cit0/Cit0day.in_special_for_xss.is/Cit0day Prem [_special_for_xss.is]/0-de-franchise.ca {6.584} [HASH+NOHASH] (NoCategory)_special_for_XSS.IS.rar/0-de-franchise.ca {6.584} [HASH] [NOHASH].txt\",\"Cit0/Cit0day.in_special_for_xss.is/Cit0day Prem [_special_for_xss.is]/0-de-franchise.ca {6.584} [HASH+NOHASH] (NoCategory)_special_for_XSS.IS.rar/0-de-franchise.ca {6.584} [HASH] [NOHASH].txt\",\"Cit0/Cit0day.in_special_for_xss.is/Cit0day Prem [_special_for_xss.is]/0-de-franchise.ca {6.584} [HASH+NOHASH] (NoCategory)_special_for_XSS.IS.rar/0-de-franchise.ca {6.584} [HASH] [NOHASH].txt\",\"Cit0/Cit0day.in_special_for_xss.is/Cit0day Prem [_special_for_xss.is]/0-de-franchise.ca {6.584} [HASH+NOHASH] (NoCategory)_special_for_XSS.IS.rar/0-de-franchise.ca {6.584} [HASH] [NOHASH].txt\",\"Cit0/Cit0day.in_special_for_xss.is/Cit0day Prem [_special_for_xss.is]/0-de-franchise.ca {6.584} [HASH+NOHASH] (NoCategory)_special_for_XSS.IS.rar/0-de-franchise.ca {6.584} [HASH] [NOHASH].txt\",...,\"Cit0/Cit0day.in_special_for_xss.is/Cit0day Prem [_special_for_xss.is]/0-de-franchise.ca {6.584} [HASH+NOHASH] (NoCategory)_special_for_XSS.IS.rar/0-de-franchise.ca {6.584} [HASH] [NOHASH].txt\",\"Cit0/Cit0day.in_special_for_xss.is/Cit0day Prem [_special_for_xss.is]/0-de-franchise.ca {6.584} [HASH+NOHASH] (NoCategory)_special_for_XSS.IS.rar/0-de-franchise.ca {6.584} [HASH] [NOHASH].txt\",\"Cit0/Cit0day.in_special_for_xss.is/Cit0day Prem [_special_for_xss.is]/0-de-franchise.ca {6.584} [HASH+NOHASH] (NoCategory)_special_for_XSS.IS.rar/0-de-franchise.ca {6.584} [HASH] [NOHASH].txt\",\"Cit0/Cit0day.in_special_for_xss.is/Cit0day Prem [_special_for_xss.is]/0-de-franchise.ca {6.584} [HASH+NOHASH] (NoCategory)_special_for_XSS.IS.rar/0-de-franchise.ca {6.584} [HASH] [NOHASH].txt\",\"Cit0/Cit0day.in_special_for_xss.is/Cit0day Prem [_special_for_xss.is]/0-de-franchise.ca {6.584} [HASH+NOHASH] (NoCategory)_special_for_XSS.IS.rar/0-de-franchise.ca {6.584} [HASH] [NOHASH].txt\"]]"
      ]
     },
     "execution_count": 15,
     "metadata": {},
     "output_type": "execute_result"
    }
   ],
   "source": [
    "pl_df"
   ]
  },
  {
   "cell_type": "code",
   "execution_count": 16,
   "id": "0f4f2839",
   "metadata": {},
   "outputs": [],
   "source": [
    "import polars as pl"
   ]
  },
  {
   "cell_type": "code",
   "execution_count": 17,
   "id": "372ef8da",
   "metadata": {},
   "outputs": [],
   "source": [
    "pl_df =  pl.from_arrow(df)"
   ]
  },
  {
   "cell_type": "code",
   "execution_count": 18,
   "id": "8ddae028",
   "metadata": {},
   "outputs": [
    {
     "data": {
      "text/html": [
       "<div><style>\n",
       ".dataframe > thead > tr,\n",
       ".dataframe > tbody > tr {\n",
       "  text-align: right;\n",
       "  white-space: pre-wrap;\n",
       "}\n",
       "</style>\n",
       "<small>shape: (28_531_450, 4)</small><table border=\"1\" class=\"dataframe\"><thead><tr><th>email</th><th>data</th><th>bucket</th><th>prefix</th></tr><tr><td>str</td><td>str</td><td>str</td><td>str</td></tr></thead><tbody><tr><td>&quot;116crisco01@gmail.com&quot;</td><td>&quot;nucpuK-vexnyk-3covvu&quot;</td><td>&quot;raw&quot;</td><td>&quot;Cit0/Cit0day.in_special_for_xs…</td></tr><tr><td>&quot;11brownjblueberry@gmail.com&quot;</td><td>&quot;Jibbajabba123&quot;</td><td>&quot;raw&quot;</td><td>&quot;Cit0/Cit0day.in_special_for_xs…</td></tr><tr><td>&quot;1290lmw@gmail.com&quot;</td><td>&quot;llmmww00113388&quot;</td><td>&quot;raw&quot;</td><td>&quot;Cit0/Cit0day.in_special_for_xs…</td></tr><tr><td>&quot;1986lonewanderer@gmail.com&quot;</td><td>&quot;harmon1986&quot;</td><td>&quot;raw&quot;</td><td>&quot;Cit0/Cit0day.in_special_for_xs…</td></tr><tr><td>&quot;1998denk@gmail.com&quot;</td><td>&quot;blackstar1998&quot;</td><td>&quot;raw&quot;</td><td>&quot;Cit0/Cit0day.in_special_for_xs…</td></tr><tr><td>&hellip;</td><td>&hellip;</td><td>&hellip;</td><td>&hellip;</td></tr><tr><td>&quot;zxlqw321@yahoo.co.jp&quot;</td><td>&quot;abcd4668e4956a5c03af49f267cedb…</td><td>&quot;raw&quot;</td><td>&quot;Cit0/Cit0day.in_special_for_xs…</td></tr><tr><td>&quot;zytov@ya.ru&quot;</td><td>&quot;d65a5395c71a8eae023c96a75bf190…</td><td>&quot;raw&quot;</td><td>&quot;Cit0/Cit0day.in_special_for_xs…</td></tr><tr><td>&quot;zzima.com_1997@mail.ru&quot;</td><td>&quot;19961108dd&quot;</td><td>&quot;raw&quot;</td><td>&quot;Cit0/Cit0day.in_special_for_xs…</td></tr><tr><td>&quot;zzq717197@sina.com&quot;</td><td>&quot;auolid&quot;</td><td>&quot;raw&quot;</td><td>&quot;Cit0/Cit0day.in_special_for_xs…</td></tr><tr><td>&quot;zzz13@mailinator.com&quot;</td><td>&quot;1656f73b6addeb256326a399bb11b1…</td><td>&quot;raw&quot;</td><td>&quot;Cit0/Cit0day.in_special_for_xs…</td></tr></tbody></table></div>"
      ],
      "text/plain": [
       "shape: (28_531_450, 4)\n",
       "┌─────────────────────────────┬─────────────────────────────┬────────┬─────────────────────────────┐\n",
       "│ email                       ┆ data                        ┆ bucket ┆ prefix                      │\n",
       "│ ---                         ┆ ---                         ┆ ---    ┆ ---                         │\n",
       "│ str                         ┆ str                         ┆ str    ┆ str                         │\n",
       "╞═════════════════════════════╪═════════════════════════════╪════════╪═════════════════════════════╡\n",
       "│ 116crisco01@gmail.com       ┆ nucpuK-vexnyk-3covvu        ┆ raw    ┆ Cit0/Cit0day.in_special_for │\n",
       "│                             ┆                             ┆        ┆ _xs…                        │\n",
       "│ 11brownjblueberry@gmail.com ┆ Jibbajabba123               ┆ raw    ┆ Cit0/Cit0day.in_special_for │\n",
       "│                             ┆                             ┆        ┆ _xs…                        │\n",
       "│ 1290lmw@gmail.com           ┆ llmmww00113388              ┆ raw    ┆ Cit0/Cit0day.in_special_for │\n",
       "│                             ┆                             ┆        ┆ _xs…                        │\n",
       "│ 1986lonewanderer@gmail.com  ┆ harmon1986                  ┆ raw    ┆ Cit0/Cit0day.in_special_for │\n",
       "│                             ┆                             ┆        ┆ _xs…                        │\n",
       "│ 1998denk@gmail.com          ┆ blackstar1998               ┆ raw    ┆ Cit0/Cit0day.in_special_for │\n",
       "│                             ┆                             ┆        ┆ _xs…                        │\n",
       "│ …                           ┆ …                           ┆ …      ┆ …                           │\n",
       "│ zxlqw321@yahoo.co.jp        ┆ abcd4668e4956a5c03af49f267c ┆ raw    ┆ Cit0/Cit0day.in_special_for │\n",
       "│                             ┆ edb…                        ┆        ┆ _xs…                        │\n",
       "│ zytov@ya.ru                 ┆ d65a5395c71a8eae023c96a75bf ┆ raw    ┆ Cit0/Cit0day.in_special_for │\n",
       "│                             ┆ 190…                        ┆        ┆ _xs…                        │\n",
       "│ zzima.com_1997@mail.ru      ┆ 19961108dd                  ┆ raw    ┆ Cit0/Cit0day.in_special_for │\n",
       "│                             ┆                             ┆        ┆ _xs…                        │\n",
       "│ zzq717197@sina.com          ┆ auolid                      ┆ raw    ┆ Cit0/Cit0day.in_special_for │\n",
       "│                             ┆                             ┆        ┆ _xs…                        │\n",
       "│ zzz13@mailinator.com        ┆ 1656f73b6addeb256326a399bb1 ┆ raw    ┆ Cit0/Cit0day.in_special_for │\n",
       "│                             ┆ 1b1…                        ┆        ┆ _xs…                        │\n",
       "└─────────────────────────────┴─────────────────────────────┴────────┴─────────────────────────────┘"
      ]
     },
     "execution_count": 18,
     "metadata": {},
     "output_type": "execute_result"
    }
   ],
   "source": [
    "pl_df"
   ]
  },
  {
   "cell_type": "code",
   "execution_count": null,
   "id": "5f06c771",
   "metadata": {},
   "outputs": [],
   "source": []
  }
 ],
 "metadata": {
  "kernelspec": {
   "display_name": "Python 3 (ipykernel)",
   "language": "python",
   "name": "python3"
  },
  "language_info": {
   "codemirror_mode": {
    "name": "ipython",
    "version": 3
   },
   "file_extension": ".py",
   "mimetype": "text/x-python",
   "name": "python",
   "nbconvert_exporter": "python",
   "pygments_lexer": "ipython3",
   "version": "3.12.4"
  }
 },
 "nbformat": 4,
 "nbformat_minor": 5
}
