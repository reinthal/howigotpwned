{
 "cells": [
  {
   "cell_type": "code",
   "execution_count": 16,
   "id": "5c5569a4-856a-4aa4-9782-ff34fc82ba57",
   "metadata": {},
   "outputs": [],
   "source": [
    "from io import BytesIO\n",
    "import tempfile\n",
    "from typing import List\n",
    "\n",
    "from dagster import AssetExecutionContext, asset, EnvVar\n",
    "from dagster_aws.s3 import S3Resource\n",
    "\n",
    "import os \n",
    "from dagster_project.partitions import password_archive_partitions_def\n",
    "from dagster_project.utils import copy_archive_to_s3, get_objects\n",
    "from pyiceberg.catalog import load_catalog\n",
    "import polars as pl\n",
    "LEAKS_BUCKET='leaks'\n",
    "RAW_BUCKET='raw'\n",
    "FOLDER_PATH='Cit0/Cit0day.in_special_for_xss.is/Cit0day Prem [_special_for_xss.is]'\n",
    "\n",
    "secret_access_key = os.getenv(\"SOURCES__FILESYSTEM__CREDENTIALS__AWS_SECRET_ACCESS_KEY\")\n",
    "access_key_id = os.getenv(\"SOURCES__FILESYSTEM__CREDENTIALS__AWS_ACCESS_KEY_ID\")\n",
    "region_name = 'us-east-1'  # Correct the region name\n",
    "endpoint_url = os.getenv(\"SOURCES__FILESYSTEM__CREDENTIALS__AWS_S3_ENDPOINT\")\n",
    "\n",
    "s3 = S3Resource(\n",
    "    endpoint_url=endpoint_url,\n",
    "    use_ssl=False,\n",
    "    aws_access_key_id=access_key_id,\n",
    "    aws_secret_access_key=secret_access_key\n",
    ")\n",
    "\n",
    "\n",
    "import pyarrow as pa\n",
    "pa_strings = pa.string()\n",
    "password_files_pyarrow_schema = pa.schema([\n",
    "    ('email', pa_strings),\n",
    "    ('data', pa_strings),\n",
    "    ('bucket', pa_strings),\n",
    "    ('prefix', pa_strings),\n",
    "]\n",
    ")\n",
    "password_files_polars_schema = pl.Schema({\n",
    "    \"email\": pl.String(),\n",
    "    \"data\": pl.String(),\n",
    "    \"bucket\": pl.String(),\n",
    "    \"prefix\": pl.String()\n",
    "    })\n",
    "\n",
    "catalog = load_catalog(\"default\",\n",
    "        **{\n",
    "            \"warehouse\": \"s3://iceberg/warehouse\",\n",
    "            \"uri\": \"https://nessie.local.reinthal.cc/iceberg\",\n",
    "            \"py-io-impl\": \"pyiceberg.io.pyarrow.PyArrowFileIO\",\n",
    "            \"s3.endpoint\": EnvVar(\"DESTINATION__FILESYSTEM__CREDENTIALS__AWS_S3_ENDPOINT\").get_value(),\n",
    "            \"s3.access-key-id\": EnvVar(\"DESTINATION__FILESYSTEM__CREDENTIALS__AWS_ACCESS_KEY_ID\").get_value(),\n",
    "            \"s3.secret-access-key\": EnvVar(\"DESTINATION__FILESYSTEM__CREDENTIALS__AWS_SECRET_ACCESS_KEY\").get_value(),\n",
    "            \"type\": \"rest\"\n",
    "    })\n",
    "\n",
    "catalog.create_namespace_if_not_exists(\"staging\")\n",
    "\n",
    "table = catalog.create_table_if_not_exists(\"staging.cit0day_password_files\", schema=password_files_pyarrow_schema)"
   ]
  },
  {
   "cell_type": "code",
   "execution_count": 17,
   "id": "cf492ed6-3988-486e-b7a1-fa3de9d7d792",
   "metadata": {},
   "outputs": [],
   "source": [
    "upstream_archive = 'extracted/Cit0day Prem [_special_for_xss.is]/03designscommunications.ca {2.044} [NOHASH] (NoCategory)_special_for_XSS.IS/'"
   ]
  },
  {
   "cell_type": "code",
   "execution_count": 18,
   "id": "463dea0b-7854-4238-8733-3c1def0247bd",
   "metadata": {},
   "outputs": [],
   "source": [
    "objs = get_objects(source_bucket=RAW_BUCKET, prefix=upstream_archive, s3=s3)"
   ]
  },
  {
   "cell_type": "code",
   "execution_count": 19,
   "id": "628d801e-3bbe-4674-bea7-8451adc4473a",
   "metadata": {},
   "outputs": [
    {
     "name": "stdout",
     "output_type": "stream",
     "text": [
      "extracted/Cit0day Prem [_special_for_xss.is]/03designscommunications.ca {2.044} [NOHASH] (NoCategory)_special_for_XSS.IS/03designscommunications.ca {2.044} [NOHASH].txt\n"
     ]
    }
   ],
   "source": [
    "for obj in objs:\n",
    "    # - file name\n",
    "    file_name = obj\n",
    "    # download the file\n",
    "    file_obj = BytesIO()\n",
    "    s3.get_client().download_fileobj(RAW_BUCKET, file_name, file_obj)\n",
    "    df = pl.read_csv(file_obj, has_header=False, separator=\":\", schema=password_files_polars_schema)\n",
    "    \n",
    "    pa_df = df.with_columns(\n",
    "        (pl.lit(RAW_BUCKET)).alias(\"bucket\"),\n",
    "        (pl.lit(file_name)).alias(\"prefix\")\n",
    "    ).to_arrow()\n",
    "    table.append(pa_df)"
   ]
  },
  {
   "cell_type": "code",
   "execution_count": null,
   "id": "10fce5a9-b86a-40db-86de-7a5b3317f4b1",
   "metadata": {},
   "outputs": [],
   "source": []
  }
 ],
 "metadata": {
  "kernelspec": {
   "display_name": "Python 3 (ipykernel)",
   "language": "python",
   "name": "python3"
  },
  "language_info": {
   "codemirror_mode": {
    "name": "ipython",
    "version": 3
   },
   "file_extension": ".py",
   "mimetype": "text/x-python",
   "name": "python",
   "nbconvert_exporter": "python",
   "pygments_lexer": "ipython3",
   "version": "3.12.4"
  }
 },
 "nbformat": 4,
 "nbformat_minor": 5
}
