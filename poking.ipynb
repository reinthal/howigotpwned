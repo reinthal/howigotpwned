{
 "cells": [
  {
   "cell_type": "code",
   "execution_count": 1,
   "id": "ac646c14-76d7-4ad6-80e6-bebf331f0413",
   "metadata": {
    "scrolled": true
   },
   "outputs": [
    {
     "name": "stdout",
     "output_type": "stream",
     "text": [
      "feat-push-data-to-elastic\n"
     ]
    }
   ],
   "source": [
    "import polars as pl\n",
    "import os\n",
    "from dagster import EnvVar\n",
    "from pyiceberg.catalog import load_catalog\n",
    "from dagster_project.schemas import (\n",
    "    cit0day_partition_spec,\n",
    "    cit0day_sort_order,\n",
    "    cit0day_polars_schema,\n",
    "    cit0day_schema,\n",
    ")\n",
    "from dagster_aws.s3 import S3Resource\n",
    "\n",
    "name = \"default\"\n",
    "warehouse = EnvVar(\"NESSIE_WAREHOUSE\").get_value()\n",
    "branch = EnvVar(\"NESSIE_BRANCH\").get_value()\n",
    "uri = EnvVar(\"NESSIE_URI\").get_value()\n",
    "py_io_impl = \"pyiceberg.io.pyarrow.PyArrowFileIO\"\n",
    "s3_endpoint = EnvVar(\\\n",
    "    \"DESTINATION__FILESYSTEM__CREDENTIALS__AWS_S3_ENDPOINT\"\\\n",
    "        ).get_value()\n",
    "s3_access_key_id = EnvVar(\n",
    "    \"DESTINATION__FILESYSTEM__CREDENTIALS__AWS_ACCESS_KEY_ID\"\n",
    ").get_value()\n",
    "s3_secret_access_key = EnvVar(\n",
    "    \"DESTINATION__FILESYSTEM__CREDENTIALS__AWS_SECRET_ACCESS_KEY\"\n",
    ").get_value()\n",
    "catalog_type = \"rest\"\n",
    "catalog = load_catalog(\n",
    "            **{\n",
    "                \"warehouse\": warehouse,\n",
    "                \"uri\": f\"{uri}/{branch}\",\n",
    "                \"py-io-impl\": py_io_impl,\n",
    "                \"s3.endpoint\": s3_endpoint,\n",
    "                \"s3.access-key-id\": s3_access_key_id,\n",
    "                \"s3.secret-access-key\": s3_secret_access_key,\n",
    "                \"type\": catalog_type,\n",
    "            },\n",
    "        )\n",
    "\n",
    "print(branch)"
   ]
  },
  {
   "cell_type": "code",
   "execution_count": 5,
   "id": "310d7544-6024-479b-9ee8-2f3ac5ce5ba7",
   "metadata": {
    "scrolled": true
   },
   "outputs": [
    {
     "data": {
      "text/plain": [
       "[('staging', 'cit0day_password_files')]"
      ]
     },
     "execution_count": 5,
     "metadata": {},
     "output_type": "execute_result"
    }
   ],
   "source": [
    "catalog.list_tables(\"staging\")"
   ]
  },
  {
   "cell_type": "code",
   "execution_count": null,
   "id": "431d5e82-b94b-4d48-b2ce-8460c468fee9",
   "metadata": {
    "scrolled": true
   },
   "outputs": [],
   "source": [
    "table = catalog.drop_table(\"staging.cit0day_password_files\")"
   ]
  },
  {
   "cell_type": "code",
   "execution_count": 6,
   "id": "d041e150-8a94-4cbe-bf70-0e10eef65644",
   "metadata": {
    "scrolled": true
   },
   "outputs": [
    {
     "name": "stdout",
     "output_type": "stream",
     "text": [
      "Polars shape (4830684, 7)\n",
      "Pyarrow shape: (4830684, 7)\n"
     ]
    },
    {
     "data": {
      "text/plain": [
       "cit0day_password_files(\n",
       "  1: email: optional string,\n",
       "  2: username: optional string,\n",
       "  3: email_domain: optional string,\n",
       "  4: data: optional string,\n",
       "  5: bucket: optional string,\n",
       "  6: prefix: optional string,\n",
       "  7: category: optional string\n",
       "),\n",
       "partition by: [category],\n",
       "sort order: [1 ASC NULLS FIRST],\n",
       "snapshot: Operation.APPEND: id=3251388465345455591, schema_id=0"
      ]
     },
     "execution_count": 6,
     "metadata": {},
     "output_type": "execute_result"
    }
   ],
   "source": [
    "nas_minio = S3Resource(\n",
    "    aws_secret_access_key=os.getenv(\n",
    "        \"SOURCES__FILESYSTEM__CREDENTIALS__AWS_SECRET_ACCESS_KEY\"\n",
    "    ),\n",
    "    aws_access_key_id=os.getenv(\"SOURCES__FILESYSTEM__CREDENTIALS__AWS_ACCESS_KEY_ID\"),\n",
    "    endpoint_url=os.getenv(\"SOURCES__FILESYSTEM__CREDENTIALS__AWS_S3_ENDPOINT\"),\n",
    ")\n",
    "\n",
    "client = nas_minio.get_client()\n",
    "obj = client.get_object(Bucket=\"raw\", Key=\"parquets/f4b12f8a-c762-4bff-b423-06e0bb6b250e.parquet\")\n",
    "df = pl.read_parquet(obj[\"Body\"])\n",
    "\n",
    "print(f\"Polars shape {df.shape}\")\n",
    "\n",
    "pa_df = df.to_arrow()\n",
    "print(f\"Pyarrow shape: {pa_df.shape}\")\n",
    "\n",
    "catalog.create_table_if_not_exists(\n",
    "        \"staging.cit0day_password_files\",\n",
    "        schema=cit0day_schema,\n",
    "        partition_spec=cit0day_partition_spec,\n",
    "        sort_order=cit0day_sort_order\n",
    ")"
   ]
  },
  {
   "cell_type": "code",
   "execution_count": 6,
   "id": "bad138ca-d91f-42d6-b05c-2689a1203c14",
   "metadata": {
    "scrolled": true
   },
   "outputs": [],
   "source": [
    "table = catalog.load_table(\"staging.cit0day_password_files\")\n",
    "res = table.append(pa_df)"
   ]
  },
  {
   "cell_type": "markdown",
   "id": "1b5a9a52-2b27-416f-bc20-77fc28402e74",
   "metadata": {},
   "source": [
    "# Query the Data"
   ]
  },
  {
   "cell_type": "code",
   "execution_count": 3,
   "id": "706e42a4-dfd6-4b8d-b88b-4779113a47c5",
   "metadata": {},
   "outputs": [],
   "source": [
    "table = catalog.load_table(\"staging.cit0day_password_files\")"
   ]
  },
  {
   "cell_type": "code",
   "execution_count": 4,
   "id": "6cf083cc-7988-4f5f-9ea1-0eeb7f18ce67",
   "metadata": {},
   "outputs": [
    {
     "name": "stderr",
     "output_type": "stream",
     "text": [
      "/nix/store/52d6yz3pxvvzng4r4ky9fb2nk37m8g8b-python3-3.12.4-env/lib/python3.12/site-packages/pyiceberg/avro/decoder.py:185: UserWarning: Falling back to pure Python Avro decoder, missing Cython implementation\n",
      "  warnings.warn(\"Falling back to pure Python Avro decoder, missing Cython implementation\")\n"
     ]
    },
    {
     "name": "stdout",
     "output_type": "stream",
     "text": [
      "shape: (1, 1)\n",
      "┌──────────────┐\n",
      "│ count_star() │\n",
      "│ ---          │\n",
      "│ i64          │\n",
      "╞══════════════╡\n",
      "│ 4830684      │\n",
      "└──────────────┘\n"
     ]
    }
   ],
   "source": [
    "con = table.scan().to_duckdb(table_name=\"cit0day_password_files\")\n",
    "duck_df = pl.DataFrame(con.execute(\n",
    "        \"\"\"\n",
    "            select ELASTIC_USER=elastic\n",
    "\n",
    "            count(*) from cit0day_password_files\n",
    "            --where category='Web Hosting'\n",
    "        \"\"\"\n",
    "    ).fetch_arrow_table())\n",
    "print(duck_df)"
   ]
  },
  {
   "cell_type": "code",
   "execution_count": 1,
   "id": "ba82529b-111e-429b-b8fd-9fb5b8407924",
   "metadata": {},
   "outputs": [
    {
     "name": "stdout",
     "output_type": "stream",
     "text": [
      "Elasticsearch cluster is up!\n"
     ]
    }
   ],
   "source": [
    "from elasticsearch import Elasticsearch\n",
    "import os \n",
    "# Replace with your Elasticsearch URL, username, and password\n",
    "es_host = \"https://elastic.local.reinthal.cc\"  # or your Elasticsearch server address\n",
    "api_key = os.getenv(\"ELASTIC_API_KEY\")\n",
    "index = os.getenv(\"ELASTIC_PASSWORDS_INDEX\")\n",
    "\n",
    "# Instantiate the Elasticsearch client\n",
    "es = Elasticsearch(\n",
    "    [es_host],\n",
    "    api_key=api_key\n",
    ")\n",
    "\n",
    "# Optional: Check if the connection is successful\n",
    "if es.ping():\n",
    "    print(\"Elasticsearch cluster is up!\")\n",
    "else:\n",
    "    print(\"Elasticsearch cluster is down!\")"
   ]
  },
  {
   "cell_type": "code",
   "execution_count": 2,
   "id": "ca8a607b-15ef-49ce-85b6-53bfb4aefcab",
   "metadata": {},
   "outputs": [
    {
     "name": "stdout",
     "output_type": "stream",
     "text": [
      "Index 'passwords-dev' created successfully!\n"
     ]
    }
   ],
   "source": [
    "# Define the index name\n",
    "index_name = os.getenv(\"ELASTIC_PASSWORDS_INDEX\")\n",
    "\n",
    "# Define the index mappings\n",
    "mapping = {\n",
    "    \"mappings\": {\n",
    "        \"properties\": {\n",
    "            \"email\": {\n",
    "                \"type\": \"text\",  # or \"keyword\" if you want exact matches\n",
    "            },\n",
    "            \"username\": {\n",
    "                \"type\": \"text\",\n",
    "            },\n",
    "            \"email_domain\": {\n",
    "                \"type\": \"text\",  # or \"keyword\" if you want exact matches\n",
    "            },\n",
    "            \"data\": {\n",
    "                \"type\": \"text\",\n",
    "            },\n",
    "            \"bucket\": {\n",
    "                \"type\": \"text\",  # or \"keyword\" if you want exact matches\n",
    "            },\n",
    "            \"prefix\": {\n",
    "                \"type\": \"text\",  # or \"keyword\" if you want exact matches\n",
    "            },\n",
    "            \"category\": {\n",
    "                \"type\": \"keyword\",  # keyword will be better for exact matches\n",
    "            },\n",
    "            \"date\": {\n",
    "                \"type\": \"date\",\n",
    "            }\n",
    "        }\n",
    "    }\n",
    "}\n",
    "\n",
    "# Create the index\n",
    "if not es.indices.exists(index=index_name):\n",
    "    es.indices.create(index=index_name, body=mapping)\n",
    "    print(f\"Index '{index_name}' created successfully!\")\n",
    "else:\n",
    "    print(f\"Index '{index_name}' already exists.\")"
   ]
  },
  {
   "cell_type": "code",
   "execution_count": 3,
   "id": "c8285ac1-1c0f-4726-9992-eba959d76698",
   "metadata": {},
   "outputs": [],
   "source": [
    "import polars as pl"
   ]
  },
  {
   "cell_type": "code",
   "execution_count": 5,
   "id": "f18ffbb7-90ba-491f-a9cb-7ffe4c349d89",
   "metadata": {},
   "outputs": [
    {
     "data": {
      "text/html": [
       "2020-11-04 00:00:00.alias(\"datetime\").strict_cast(Date).alias(\"date\")"
      ],
      "text/plain": [
       "<Expr ['2020-11-04 00:00:00.alias(\"dat…'] at 0xFFFF327EF3B0>"
      ]
     },
     "execution_count": 5,
     "metadata": {},
     "output_type": "execute_result"
    }
   ],
   "source": [
    "pl.date(year=2020,month=11,day=4)"
   ]
  },
  {
   "cell_type": "code",
   "execution_count": null,
   "id": "42ae7fcf-cece-44e0-bc6c-3f9b8a82bbbd",
   "metadata": {},
   "outputs": [],
   "source": []
  }
 ],
 "metadata": {
  "kernelspec": {
   "display_name": "Python 3 (ipykernel)",
   "language": "python",
   "name": "python3"
  },
  "language_info": {
   "codemirror_mode": {
    "name": "ipython",
    "version": 3
   },
   "file_extension": ".py",
   "mimetype": "text/x-python",
   "name": "python",
   "nbconvert_exporter": "python",
   "pygments_lexer": "ipython3",
   "version": "3.12.4"
  }
 },
 "nbformat": 4,
 "nbformat_minor": 5
}
