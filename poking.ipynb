{
 "cells": [
  {
   "cell_type": "code",
   "execution_count": 1,
   "id": "ac646c14-76d7-4ad6-80e6-bebf331f0413",
   "metadata": {
    "scrolled": true
   },
   "outputs": [
    {
     "name": "stdout",
     "output_type": "stream",
     "text": [
      "feat-push-data-to-elastic\n"
     ]
    }
   ],
   "source": [
    "import polars as pl\n",
    "import os\n",
    "from dagster import EnvVar\n",
    "from pyiceberg.catalog import load_catalog\n",
    "from dagster_project.schemas import (\n",
    "    cit0day_partition_spec,\n",
    "    cit0day_sort_order,\n",
    "    cit0day_polars_schema,\n",
    "    cit0day_schema,\n",
    ")\n",
    "from dagster_aws.s3 import S3Resource\n",
    "\n",
    "name = \"default\"\n",
    "warehouse = EnvVar(\"NESSIE_WAREHOUSE\").get_value()\n",
    "branch = EnvVar(\"NESSIE_BRANCH\").get_value()\n",
    "uri = EnvVar(\"NESSIE_URI\").get_value()\n",
    "py_io_impl = \"pyiceberg.io.pyarrow.PyArrowFileIO\"\n",
    "s3_endpoint = EnvVar(\\\n",
    "    \"DESTINATION__FILESYSTEM__CREDENTIALS__AWS_S3_ENDPOINT\"\\\n",
    "        ).get_value()\n",
    "s3_access_key_id = EnvVar(\n",
    "    \"DESTINATION__FILESYSTEM__CREDENTIALS__AWS_ACCESS_KEY_ID\"\n",
    ").get_value()\n",
    "s3_secret_access_key = EnvVar(\n",
    "    \"DESTINATION__FILESYSTEM__CREDENTIALS__AWS_SECRET_ACCESS_KEY\"\n",
    ").get_value()\n",
    "catalog_type = \"rest\"\n",
    "catalog = load_catalog(\n",
    "            **{\n",
    "                \"warehouse\": warehouse,\n",
    "                \"uri\": f\"{uri}/{branch}\",\n",
    "                \"py-io-impl\": py_io_impl,\n",
    "                \"s3.endpoint\": s3_endpoint,\n",
    "                \"s3.access-key-id\": s3_access_key_id,\n",
    "                \"s3.secret-access-key\": s3_secret_access_key,\n",
    "                \"type\": catalog_type,\n",
    "            },\n",
    "        )\n",
    "\n",
    "print(branch)"
   ]
  },
  {
   "cell_type": "code",
   "execution_count": 9,
   "id": "30ed8dc0-e250-4ead-aa1c-a0c894460c8b",
   "metadata": {
    "scrolled": true
   },
   "outputs": [],
   "source": [
    "catalog.list_tables(\"staging\")\n",
    "table = catalog.drop_table(\"staging.cit0day_password_files\")"
   ]
  },
  {
   "cell_type": "code",
   "execution_count": 5,
   "id": "d041e150-8a94-4cbe-bf70-0e10eef65644",
   "metadata": {
    "scrolled": true
   },
   "outputs": [
    {
     "name": "stdout",
     "output_type": "stream",
     "text": [
      "Polars shape (4830684, 7)\n",
      "Pyarrow shape: (4830684, 7)\n"
     ]
    },
    {
     "data": {
      "text/plain": [
       "cit0day_password_files(\n",
       "  1: email: optional string,\n",
       "  2: username: optional string,\n",
       "  3: email_domain: optional string,\n",
       "  4: data: optional string,\n",
       "  5: bucket: optional string,\n",
       "  6: prefix: optional string,\n",
       "  7: category: optional string\n",
       "),\n",
       "partition by: [category],\n",
       "sort order: [1 ASC NULLS FIRST],\n",
       "snapshot: null"
      ]
     },
     "execution_count": 5,
     "metadata": {},
     "output_type": "execute_result"
    }
   ],
   "source": [
    "nas_minio = S3Resource(\n",
    "    aws_secret_access_key=os.getenv(\n",
    "        \"SOURCES__FILESYSTEM__CREDENTIALS__AWS_SECRET_ACCESS_KEY\"\n",
    "    ),\n",
    "    aws_access_key_id=os.getenv(\"SOURCES__FILESYSTEM__CREDENTIALS__AWS_ACCESS_KEY_ID\"),\n",
    "    endpoint_url=os.getenv(\"SOURCES__FILESYSTEM__CREDENTIALS__AWS_S3_ENDPOINT\"),\n",
    ")\n",
    "\n",
    "client = nas_minio.get_client()\n",
    "obj = client.get_object(Bucket=\"raw\", Key=\"parquets/f4b12f8a-c762-4bff-b423-06e0bb6b250e.parquet\")\n",
    "df = pl.read_parquet(obj[\"Body\"])\n",
    "\n",
    "print(f\"Polars shape {df.shape}\")\n",
    "\n",
    "pa_df = df.to_arrow()\n",
    "print(f\"Pyarrow shape: {pa_df.shape}\")\n",
    "\n",
    "catalog.create_table_if_not_exists(\n",
    "        \"staging.cit0day_password_files\",\n",
    "        schema=cit0day_schema,\n",
    "        partition_spec=cit0day_partition_spec,\n",
    "        sort_order=cit0day_sort_order\n",
    ")"
   ]
  },
  {
   "cell_type": "code",
   "execution_count": 6,
   "id": "bad138ca-d91f-42d6-b05c-2689a1203c14",
   "metadata": {
    "scrolled": true
   },
   "outputs": [],
   "source": [
    "table = catalog.load_table(\"staging.cit0day_password_files\")\n",
    "res = table.append(pa_df)"
   ]
  },
  {
   "cell_type": "markdown",
   "id": "1b5a9a52-2b27-416f-bc20-77fc28402e74",
   "metadata": {},
   "source": [
    "# Query the Data"
   ]
  },
  {
   "cell_type": "code",
   "execution_count": 7,
   "id": "706e42a4-dfd6-4b8d-b88b-4779113a47c5",
   "metadata": {},
   "outputs": [],
   "source": [
    "table = catalog.load_table(\"staging.cit0day_password_files\")"
   ]
  },
  {
   "cell_type": "code",
   "execution_count": 8,
   "id": "6cf083cc-7988-4f5f-9ea1-0eeb7f18ce67",
   "metadata": {},
   "outputs": [
    {
     "name": "stderr",
     "output_type": "stream",
     "text": [
      "/nix/store/4x3mipj91zifraycl25vhmicwva3rgaf-python3-3.12.4-env/lib/python3.12/site-packages/pyiceberg/avro/decoder.py:185: UserWarning: Falling back to pure Python Avro decoder, missing Cython implementation\n",
      "  warnings.warn(\"Falling back to pure Python Avro decoder, missing Cython implementation\")\n"
     ]
    },
    {
     "name": "stdout",
     "output_type": "stream",
     "text": [
      "shape: (977_944, 7)\n",
      "┌───────────────┬──────────────┬──────────────┬──────────────┬────────┬──────────────┬─────────────┐\n",
      "│ email         ┆ username     ┆ email_domain ┆ data         ┆ bucket ┆ prefix       ┆ category    │\n",
      "│ ---           ┆ ---          ┆ ---          ┆ ---          ┆ ---    ┆ ---          ┆ ---         │\n",
      "│ str           ┆ str          ┆ str          ┆ str          ┆ str    ┆ str          ┆ str         │\n",
      "╞═══════════════╪══════════════╪══════════════╪══════════════╪════════╪══════════════╪═════════════╡\n",
      "│ 0325maomao@gm ┆ 0325maomao   ┆ gmail.com    ┆ $H$9u2WyOAtb ┆ raw    ┆ extracted/Ci ┆ Auto        │\n",
      "│ ail.com       ┆              ┆              ┆ QZadYQNzkSGF ┆        ┆ t0day Prem   ┆             │\n",
      "│               ┆              ┆              ┆ /Ndv84…      ┆        ┆ [_speci…     ┆             │\n",
      "│ 0670802436m@g ┆ 0670802436m  ┆ gmail.com    ┆ $H$9kETH0pdf ┆ raw    ┆ extracted/Ci ┆ Auto        │\n",
      "│ mail.com      ┆              ┆              ┆ pGfJY398u9tp ┆        ┆ t0day Prem   ┆             │\n",
      "│               ┆              ┆              ┆ .j3EcR…      ┆        ┆ [_speci…     ┆             │\n",
      "│ 090897fg@gmai ┆ 090897fg     ┆ gmail.com    ┆ $H$9GQrCw6p1 ┆ raw    ┆ extracted/Ci ┆ Auto        │\n",
      "│ l.com         ┆              ┆              ┆ PwpoD8Kd5px. ┆        ┆ t0day Prem   ┆             │\n",
      "│               ┆              ┆              ┆ .VTR52…      ┆        ┆ [_speci…     ┆             │\n",
      "│ 1001cocktails ┆ 1001cocktail ┆ gmail.com    ┆ $H$7yb9.8gzE ┆ raw    ┆ extracted/Ci ┆ Auto        │\n",
      "│ +rgarisov@gma ┆ s+rgarisov   ┆              ┆ WQru0wW3T6It ┆        ┆ t0day Prem   ┆             │\n",
      "│ il.c…         ┆              ┆              ┆ s03LfT…      ┆        ┆ [_speci…     ┆             │\n",
      "│ 1001cocktails ┆ 1001cocktail ┆ gmail.com    ┆ $H$9sd3BTD9a ┆ raw    ┆ extracted/Ci ┆ Auto        │\n",
      "│ @gmail.com    ┆ s            ┆              ┆ Hrc84RyDtch4 ┆        ┆ t0day Prem   ┆             │\n",
      "│               ┆              ┆              ┆ h9CtAz…      ┆        ┆ [_speci…     ┆             │\n",
      "│ …             ┆ …            ┆ …            ┆ …            ┆ …      ┆ …            ┆ …           │\n",
      "│ wanessasantia ┆ wanessasanti ┆ gmail.com    ┆ fb7b20e0c946 ┆ raw    ┆ extracted/Ci ┆ Web Hosting │\n",
      "│ go2105@gmail. ┆ ago2105      ┆              ┆ 4c1400586fee ┆        ┆ t0day Prem   ┆             │\n",
      "│ com           ┆              ┆              ┆ 339281…      ┆        ┆ [_speci…     ┆             │\n",
      "│ wondongwon@gm ┆ wondongwon   ┆ gmail.com    ┆ *8A2C40886BC ┆ raw    ┆ extracted/Ci ┆ Web Hosting │\n",
      "│ ail.com       ┆              ┆              ┆ 9C0C7474FDF3 ┆        ┆ t0day Prem   ┆             │\n",
      "│               ┆              ┆              ┆ F3362A…      ┆        ┆ [_speci…     ┆             │\n",
      "│ xclesiax@gmai ┆ xclesiax     ┆ gmail.com    ┆ 6f1678675b0e ┆ raw    ┆ extracted/Ci ┆ Web Hosting │\n",
      "│ l.com         ┆              ┆              ┆ 4522397806b8 ┆        ┆ t0day Prem   ┆             │\n",
      "│               ┆              ┆              ┆ 6becc5…      ┆        ┆ [_speci…     ┆             │\n",
      "│ x.vitka@gmail ┆ x.vitka      ┆ gmail.com    ┆ 78b7023160fd ┆ raw    ┆ extracted/Ci ┆ Web Hosting │\n",
      "│ .com          ┆              ┆              ┆ 6c3446f8f632 ┆        ┆ t0day Prem   ┆             │\n",
      "│               ┆              ┆              ┆ 07fc4d…      ┆        ┆ [_speci…     ┆             │\n",
      "│ zdelimarodrig ┆ zdelimarodri ┆ gmail.com    ┆ 19bce489b91f ┆ raw    ┆ extracted/Ci ┆ Web Hosting │\n",
      "│ ues@gmail.com ┆ gues         ┆              ┆ cc73c520f28b ┆        ┆ t0day Prem   ┆             │\n",
      "│               ┆              ┆              ┆ 8943ec…      ┆        ┆ [_speci…     ┆             │\n",
      "└───────────────┴──────────────┴──────────────┴──────────────┴────────┴──────────────┴─────────────┘\n"
     ]
    }
   ],
   "source": [
    "con = table.scan().to_duckdb(table_name=\"cit0day_password_files\")\n",
    "duck_df = pl.DataFrame(con.execute(\n",
    "        \"\"\"\n",
    "            select \n",
    "            * from cit0day_password_files\n",
    "            where email_domain='gmail.com'\n",
    "        \"\"\"\n",
    "    ).fetch_arrow_table())\n",
    "print(duck_df)"
   ]
  },
  {
   "cell_type": "code",
   "execution_count": null,
   "id": "ba82529b-111e-429b-b8fd-9fb5b8407924",
   "metadata": {},
   "outputs": [],
   "source": []
  }
 ],
 "metadata": {
  "kernelspec": {
   "display_name": "Python 3 (ipykernel)",
   "language": "python",
   "name": "python3"
  },
  "language_info": {
   "codemirror_mode": {
    "name": "ipython",
    "version": 3
   },
   "file_extension": ".py",
   "mimetype": "text/x-python",
   "name": "python",
   "nbconvert_exporter": "python",
   "pygments_lexer": "ipython3",
   "version": "3.12.4"
  }
 },
 "nbformat": 4,
 "nbformat_minor": 5
}
