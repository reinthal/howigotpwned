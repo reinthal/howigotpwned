{
 "cells": [
  {
   "cell_type": "code",
   "execution_count": 6,
   "id": "4dd8bd59-a59e-4dc3-b636-7dfeb3b664c7",
   "metadata": {},
   "outputs": [],
   "source": [
    "from dagster import EnvVar\n",
    "\n",
    "from dagster_aws.s3 import S3Resource\n",
    "\n",
    "nas_minio = S3Resource(\n",
    "    aws_secret_access_key=EnvVar(\"S3_SECRET_KEY\").get_value(),\n",
    "    aws_access_key_id=EnvVar(\"S3_ACCESS_KEY\").get_value(),\n",
    "    endpoint_url=EnvVar(\"S3_ENDPOINT\").get_value(),\n",
    ")\n"
   ]
  },
  {
   "cell_type": "code",
   "execution_count": 10,
   "id": "995c931b-dab9-402a-a23a-160b86acd759",
   "metadata": {},
   "outputs": [],
   "source": [
    "objects = nas_minio.get_client().list_objects(Bucket='leaks', Marker=\"Cit0/Cit0day.in_special_for_xss.is/Cit0day Prem [_special_for_xss.is]\")"
   ]
  },
  {
   "cell_type": "code",
   "execution_count": 14,
   "id": "b633ecb4-02a5-4a39-91a6-9f88a482d671",
   "metadata": {},
   "outputs": [
    {
     "data": {
      "text/plain": [
       "{'Key': 'Cit0/Cit0day.in_special_for_xss.is/Cit0day Prem [_special_for_xss.is]/0-de-franchise.ca {6.584} [HASH+NOHASH] (NoCategory)_special_for_XSS.IS.rar',\n",
       " 'LastModified': datetime.datetime(2024, 8, 25, 21, 33, 52, 54000, tzinfo=tzutc()),\n",
       " 'ETag': '\"5c30cce2c6d127aab669bd29e6241f3c\"',\n",
       " 'Size': 277826,\n",
       " 'StorageClass': 'STANDARD',\n",
       " 'Owner': {'DisplayName': 'minio',\n",
       "  'ID': '02d6176db174dc93cb1b899f7c6078f08654445fe8cf1b6ce98d8855f66bdbf4'}}"
      ]
     },
     "execution_count": 14,
     "metadata": {},
     "output_type": "execute_result"
    }
   ],
   "source": [
    "objects[\"Contents\"][0]"
   ]
  },
  {
   "cell_type": "code",
   "execution_count": 15,
   "id": "e1af5c7c-7eae-4bf1-bf4f-a153dcea5f98",
   "metadata": {},
   "outputs": [],
   "source": [
    "client = nas_minio.get_client()"
   ]
  },
  {
   "cell_type": "code",
   "execution_count": 16,
   "id": "71abc813-3e3d-4852-87e4-bed919b77271",
   "metadata": {},
   "outputs": [
    {
     "data": {
      "text/plain": [
       "\u001b[0;31mSignature:\u001b[0m\n",
       "\u001b[0mclient\u001b[0m\u001b[0;34m.\u001b[0m\u001b[0mdownload_fileobj\u001b[0m\u001b[0;34m(\u001b[0m\u001b[0;34m\u001b[0m\n",
       "\u001b[0;34m\u001b[0m    \u001b[0mBucket\u001b[0m\u001b[0;34m,\u001b[0m\u001b[0;34m\u001b[0m\n",
       "\u001b[0;34m\u001b[0m    \u001b[0mKey\u001b[0m\u001b[0;34m,\u001b[0m\u001b[0;34m\u001b[0m\n",
       "\u001b[0;34m\u001b[0m    \u001b[0mFileobj\u001b[0m\u001b[0;34m,\u001b[0m\u001b[0;34m\u001b[0m\n",
       "\u001b[0;34m\u001b[0m    \u001b[0mExtraArgs\u001b[0m\u001b[0;34m=\u001b[0m\u001b[0;32mNone\u001b[0m\u001b[0;34m,\u001b[0m\u001b[0;34m\u001b[0m\n",
       "\u001b[0;34m\u001b[0m    \u001b[0mCallback\u001b[0m\u001b[0;34m=\u001b[0m\u001b[0;32mNone\u001b[0m\u001b[0;34m,\u001b[0m\u001b[0;34m\u001b[0m\n",
       "\u001b[0;34m\u001b[0m    \u001b[0mConfig\u001b[0m\u001b[0;34m=\u001b[0m\u001b[0;32mNone\u001b[0m\u001b[0;34m,\u001b[0m\u001b[0;34m\u001b[0m\n",
       "\u001b[0;34m\u001b[0m\u001b[0;34m)\u001b[0m\u001b[0;34m\u001b[0m\u001b[0;34m\u001b[0m\u001b[0m\n",
       "\u001b[0;31mDocstring:\u001b[0m\n",
       "Download an object from S3 to a file-like object.\n",
       "\n",
       "The file-like object must be in binary mode.\n",
       "\n",
       "This is a managed transfer which will perform a multipart download in\n",
       "multiple threads if necessary.\n",
       "\n",
       "Usage::\n",
       "\n",
       "    import boto3\n",
       "    s3 = boto3.client('s3')\n",
       "\n",
       "    with open('filename', 'wb') as data:\n",
       "        s3.download_fileobj('mybucket', 'mykey', data)\n",
       "\n",
       ":type Bucket: str\n",
       ":param Bucket: The name of the bucket to download from.\n",
       "\n",
       ":type Key: str\n",
       ":param Key: The name of the key to download from.\n",
       "\n",
       ":type Fileobj: a file-like object\n",
       ":param Fileobj: A file-like object to download into. At a minimum, it must\n",
       "    implement the `write` method and must accept bytes.\n",
       "\n",
       ":type ExtraArgs: dict\n",
       ":param ExtraArgs: Extra arguments that may be passed to the\n",
       "    client operation. For allowed download arguments see\n",
       "    boto3.s3.transfer.S3Transfer.ALLOWED_DOWNLOAD_ARGS.\n",
       "\n",
       ":type Callback: function\n",
       ":param Callback: A method which takes a number of bytes transferred to\n",
       "    be periodically called during the download.\n",
       "\n",
       ":type Config: boto3.s3.transfer.TransferConfig\n",
       ":param Config: The transfer configuration to be used when performing the\n",
       "    download.\n",
       "\u001b[0;31mFile:\u001b[0m      /nix/store/84jy79xg6lj5b2z1rw5s2haj93jgjzc7-python3-3.12.4-env/lib/python3.12/site-packages/boto3/s3/inject.py\n",
       "\u001b[0;31mType:\u001b[0m      method"
      ]
     },
     "metadata": {},
     "output_type": "display_data"
    }
   ],
   "source": [
    "with \n",
    "client.download_fileobj"
   ]
  },
  {
   "cell_type": "code",
   "execution_count": null,
   "id": "bdca9ea0-89e7-462e-bd4d-00ed45943a30",
   "metadata": {},
   "outputs": [],
   "source": []
  }
 ],
 "metadata": {
  "kernelspec": {
   "display_name": "Python 3 (ipykernel)",
   "language": "python",
   "name": "python3"
  },
  "language_info": {
   "codemirror_mode": {
    "name": "ipython",
    "version": 3
   },
   "file_extension": ".py",
   "mimetype": "text/x-python",
   "name": "python",
   "nbconvert_exporter": "python",
   "pygments_lexer": "ipython3",
   "version": "3.12.4"
  }
 },
 "nbformat": 4,
 "nbformat_minor": 5
}
