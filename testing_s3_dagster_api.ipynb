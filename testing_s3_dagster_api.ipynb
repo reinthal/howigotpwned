{
 "cells": [
  {
   "cell_type": "code",
   "execution_count": 22,
   "id": "4dd8bd59-a59e-4dc3-b636-7dfeb3b664c7",
   "metadata": {},
   "outputs": [],
   "source": [
    "from dagster import EnvVar\n",
    "import patoolib\n",
    "import tempfile\n",
    "from dagster_aws.s3 import S3Resource\n",
    "import os\n",
    "nas_minio = S3Resource(\n",
    "    aws_secret_access_key=EnvVar(\"S3_SECRET_KEY\").get_value(),\n",
    "    aws_access_key_id=EnvVar(\"S3_ACCESS_KEY\").get_value(),\n",
    "    endpoint_url=EnvVar(\"S3_ENDPOINT\").get_value(),\n",
    ")\n"
   ]
  },
  {
   "cell_type": "code",
   "execution_count": 2,
   "id": "ae7a7a4c",
   "metadata": {},
   "outputs": [],
   "source": [
    "import fsspec\n",
    "\n",
    "# Define your AWS bucket and credentials\n",
    "aws_secret_access_key=EnvVar(\"S3_SECRET_KEY\").get_value(),\n",
    "aws_access_key_id=EnvVar(\"S3_ACCESS_KEY\").get_value(),\n",
    "endpoint_url=EnvVar(\"S3_ENDPOINT\").get_value(),\n",
    "bucket_name = 'dev'\n",
    "\n",
    "# Define paths\n",
    "\n",
    "# source \n",
    "archive_path = '/home/kog/Downloads/atarimania.com {3.081} [NOHASH] (Games)_special_for_XSS.IS.zip'\n",
    "\n",
    "# dest folder\n",
    "s3_path = f's3://{bucket_name}/'"
   ]
  },
  {
   "cell_type": "code",
   "execution_count": 45,
   "id": "2972f624",
   "metadata": {},
   "outputs": [
    {
     "name": "stderr",
     "output_type": "stream",
     "text": [
      "INFO patool: Extracting /home/kog/Downloads/atarimania.com {3.081} [NOHASH] (Games)_special_for_XSS.IS.zip ...\n",
      "INFO patool: ... /home/kog/Downloads/atarimania.com {3.081} [NOHASH] (Games)_special_for_XSS.IS.zip extracted to `/tmp/nix-shell.7lRuec/tmp1to5jgro'.\n"
     ]
    },
    {
     "name": "stdout",
     "output_type": "stream",
     "text": [
      "/tmp/nix-shell.7lRuec/tmp1to5jgro/atarimania.com {3.081} [NOHASH] (Games).txt\n"
     ]
    }
   ],
   "source": [
    "nas_minio = S3Resource(\n",
    "    aws_secret_access_key=EnvVar(\"S3_SECRET_KEY\").get_value(),\n",
    "    aws_access_key_id=EnvVar(\"S3_ACCESS_KEY\").get_value(),\n",
    "    endpoint_url=EnvVar(\"S3_ENDPOINT\").get_value(),\n",
    ")\n",
    "def copy_archive_to_s3(archive_path):\n",
    "    # Create filesystems\n",
    "    client = nas_minio.get_client()\n",
    "    with tempfile.TemporaryDirectory() as tmpdirname:\n",
    "        patoolib.extract_archive(archive_path, outdir=tmpdirname)\n",
    "        for f in os.listdir(tmpdirname):\n",
    "            print(f\"{tmpdirname}/{f}\")\n",
    "            client.upload_file(f\"{tmpdirname}/{f}\", Bucket=bucket_name, Key=f)\n",
    "            \n",
    "# Run the function to copy files\n",
    "copy_archive_to_s3(archive_path, s3_path)"
   ]
  },
  {
   "cell_type": "code",
   "execution_count": 3,
   "id": "2523aae4",
   "metadata": {},
   "outputs": [],
   "source": [
    "s3 = nas_minio.get_client()"
   ]
  },
  {
   "cell_type": "code",
   "execution_count": 10,
   "id": "9f505062",
   "metadata": {},
   "outputs": [
    {
     "data": {
      "text/plain": [
       "<bound method download_file of <botocore.client.S3 object at 0x7f94c7e0c3b0>>"
      ]
     },
     "execution_count": 10,
     "metadata": {},
     "output_type": "execute_result"
    }
   ],
   "source": [
    "SOURCE_BUCKET='leaks'\n",
    "TARGET_BUCKET='dev'\n",
    "FOLDER_PATH='Cit0/Cit0day.in_special_for_xss.is/Cit0day Prem [_special_for_xss.is]'\n",
    "archive='Cit0/Cit0day.in_special_for_xss.is/Cit0day Prem [_special_for_xss.is]/0-de-franchise.ca {6.584} [HASH+NOHASH] (NoCategory)_special_for_XSS.IS.rar'\n",
    "s3.download_file"
   ]
  },
  {
   "cell_type": "code",
   "execution_count": 37,
   "id": "a26f5d4e",
   "metadata": {},
   "outputs": [],
   "source": [
    "tf = tempfile.NamedTemporaryFile(delete_on_close=False)"
   ]
  },
  {
   "cell_type": "code",
   "execution_count": 38,
   "id": "6191bcc2",
   "metadata": {},
   "outputs": [
    {
     "data": {
      "text/plain": [
       "'/tmp/nix-shell.7lRuec/tmpbl3ifolt'"
      ]
     },
     "execution_count": 38,
     "metadata": {},
     "output_type": "execute_result"
    }
   ],
   "source": [
    "tf.name"
   ]
  },
  {
   "cell_type": "code",
   "execution_count": 39,
   "id": "2d483456",
   "metadata": {},
   "outputs": [],
   "source": [
    "nas_minio.get_client().download_file(SOURCE_BUCKET, archive, tf.name) "
   ]
  },
  {
   "cell_type": "code",
   "execution_count": 27,
   "id": "37acf0cb",
   "metadata": {},
   "outputs": [],
   "source": [
    "client = nas_minio.get_client()"
   ]
  },
  {
   "cell_type": "code",
   "execution_count": 28,
   "id": "20943d5e",
   "metadata": {},
   "outputs": [
    {
     "name": "stdout",
     "output_type": "stream",
     "text": [
      "\u001b[0;31mSignature:\u001b[0m\n",
      "\u001b[0mclient\u001b[0m\u001b[0;34m.\u001b[0m\u001b[0mdownload_file\u001b[0m\u001b[0;34m(\u001b[0m\u001b[0;34m\u001b[0m\n",
      "\u001b[0;34m\u001b[0m    \u001b[0mBucket\u001b[0m\u001b[0;34m,\u001b[0m\u001b[0;34m\u001b[0m\n",
      "\u001b[0;34m\u001b[0m    \u001b[0mKey\u001b[0m\u001b[0;34m,\u001b[0m\u001b[0;34m\u001b[0m\n",
      "\u001b[0;34m\u001b[0m    \u001b[0mFilename\u001b[0m\u001b[0;34m,\u001b[0m\u001b[0;34m\u001b[0m\n",
      "\u001b[0;34m\u001b[0m    \u001b[0mExtraArgs\u001b[0m\u001b[0;34m=\u001b[0m\u001b[0;32mNone\u001b[0m\u001b[0;34m,\u001b[0m\u001b[0;34m\u001b[0m\n",
      "\u001b[0;34m\u001b[0m    \u001b[0mCallback\u001b[0m\u001b[0;34m=\u001b[0m\u001b[0;32mNone\u001b[0m\u001b[0;34m,\u001b[0m\u001b[0;34m\u001b[0m\n",
      "\u001b[0;34m\u001b[0m    \u001b[0mConfig\u001b[0m\u001b[0;34m=\u001b[0m\u001b[0;32mNone\u001b[0m\u001b[0;34m,\u001b[0m\u001b[0;34m\u001b[0m\n",
      "\u001b[0;34m\u001b[0m\u001b[0;34m)\u001b[0m\u001b[0;34m\u001b[0m\u001b[0;34m\u001b[0m\u001b[0m\n",
      "\u001b[0;31mDocstring:\u001b[0m\n",
      "Download an S3 object to a file.\n",
      "\n",
      "Usage::\n",
      "\n",
      "    import boto3\n",
      "    s3 = boto3.client('s3')\n",
      "    s3.download_file('mybucket', 'hello.txt', '/tmp/hello.txt')\n",
      "\n",
      "Similar behavior as S3Transfer's download_file() method,\n",
      "except that parameters are capitalized. Detailed examples can be found at\n",
      ":ref:`S3Transfer's Usage <ref_s3transfer_usage>`.\n",
      "\n",
      ":type Bucket: str\n",
      ":param Bucket: The name of the bucket to download from.\n",
      "\n",
      ":type Key: str\n",
      ":param Key: The name of the key to download from.\n",
      "\n",
      ":type Filename: str\n",
      ":param Filename: The path to the file to download to.\n",
      "\n",
      ":type ExtraArgs: dict\n",
      ":param ExtraArgs: Extra arguments that may be passed to the\n",
      "    client operation. For allowed download arguments see\n",
      "    boto3.s3.transfer.S3Transfer.ALLOWED_DOWNLOAD_ARGS.\n",
      "\n",
      ":type Callback: function\n",
      ":param Callback: A method which takes a number of bytes transferred to\n",
      "    be periodically called during the download.\n",
      "\n",
      ":type Config: boto3.s3.transfer.TransferConfig\n",
      ":param Config: The transfer configuration to be used when performing the\n",
      "    transfer.\n",
      "\u001b[0;31mFile:\u001b[0m      /nix/store/8kic6n5dfiipgcsxgdda3vh9x23n6326-python3-3.12.4-env/lib/python3.12/site-packages/boto3/s3/inject.py\n",
      "\u001b[0;31mType:\u001b[0m      method"
     ]
    }
   ],
   "source": [
    "client.download_file"
   ]
  },
  {
   "cell_type": "code",
   "execution_count": null,
   "id": "c220046c",
   "metadata": {},
   "outputs": [],
   "source": []
  }
 ],
 "metadata": {
  "kernelspec": {
   "display_name": "Python 3 (ipykernel)",
   "language": "python",
   "name": "python3"
  },
  "language_info": {
   "codemirror_mode": {
    "name": "ipython",
    "version": 3
   },
   "file_extension": ".py",
   "mimetype": "text/x-python",
   "name": "python",
   "nbconvert_exporter": "python",
   "pygments_lexer": "ipython3",
   "version": "3.12.4"
  }
 },
 "nbformat": 4,
 "nbformat_minor": 5
}
