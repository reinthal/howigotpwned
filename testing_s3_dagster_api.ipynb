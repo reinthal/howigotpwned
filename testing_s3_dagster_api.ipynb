{
 "cells": [
  {
   "cell_type": "code",
   "execution_count": 41,
   "id": "4dd8bd59-a59e-4dc3-b636-7dfeb3b664c7",
   "metadata": {},
   "outputs": [],
   "source": [
    "from dagster import EnvVar\n",
    "import patoolib\n",
    "import tempfile\n",
    "from dagster_aws.s3 import S3Resource\n",
    "import os\n",
    "nas_minio = S3Resource(\n",
    "    aws_secret_access_key=EnvVar(\"S3_SECRET_KEY\").get_value(),\n",
    "    aws_access_key_id=EnvVar(\"S3_ACCESS_KEY\").get_value(),\n",
    "    endpoint_url=EnvVar(\"S3_ENDPOINT\").get_value(),\n",
    ")\n"
   ]
  },
  {
   "cell_type": "code",
   "execution_count": 39,
   "id": "ae7a7a4c",
   "metadata": {},
   "outputs": [],
   "source": [
    "import fsspec\n",
    "\n",
    "# Define your AWS bucket and credentials\n",
    "aws_secret_access_key=EnvVar(\"S3_SECRET_KEY\").get_value(),\n",
    "aws_access_key_id=EnvVar(\"S3_ACCESS_KEY\").get_value(),\n",
    "endpoint_url=EnvVar(\"S3_ENDPOINT\").get_value(),\n",
    "bucket_name = 'dev'\n",
    "\n",
    "# Define paths\n",
    "\n",
    "# source \n",
    "archive_path = '/home/kog/Downloads/atarimania.com {3.081} [NOHASH] (Games)_special_for_XSS.IS.zip'\n",
    "\n",
    "# dest folder\n",
    "s3_path = f's3://{bucket_name}/'"
   ]
  },
  {
   "cell_type": "code",
   "execution_count": 45,
   "id": "2972f624",
   "metadata": {},
   "outputs": [
    {
     "name": "stderr",
     "output_type": "stream",
     "text": [
      "INFO patool: Extracting /home/kog/Downloads/atarimania.com {3.081} [NOHASH] (Games)_special_for_XSS.IS.zip ...\n",
      "INFO patool: ... /home/kog/Downloads/atarimania.com {3.081} [NOHASH] (Games)_special_for_XSS.IS.zip extracted to `/tmp/nix-shell.7lRuec/tmp1to5jgro'.\n"
     ]
    },
    {
     "name": "stdout",
     "output_type": "stream",
     "text": [
      "/tmp/nix-shell.7lRuec/tmp1to5jgro/atarimania.com {3.081} [NOHASH] (Games).txt\n"
     ]
    }
   ],
   "source": [
    "nas_minio = S3Resource(\n",
    "    aws_secret_access_key=EnvVar(\"S3_SECRET_KEY\").get_value(),\n",
    "    aws_access_key_id=EnvVar(\"S3_ACCESS_KEY\").get_value(),\n",
    "    endpoint_url=EnvVar(\"S3_ENDPOINT\").get_value(),\n",
    ")\n",
    "def copy_archive_to_s3(archive_path):\n",
    "    # Create filesystems\n",
    "    client = nas_minio.get_client()\n",
    "    with tempfile.TemporaryDirectory() as tmpdirname:\n",
    "        patoolib.extract_archive(archive_path, outdir=tmpdirname)\n",
    "        for f in os.listdir(tmpdirname):\n",
    "            print(f\"{tmpdirname}/{f}\")\n",
    "            client.upload_file(f\"{tmpdirname}/{f}\", Bucket=bucket_name, Key=f)\n",
    "            \n",
    "# Run the function to copy files\n",
    "copy_archive_to_s3(archive_path, s3_path)"
   ]
  }
 ],
 "metadata": {
  "kernelspec": {
   "display_name": "Python 3 (ipykernel)",
   "language": "python",
   "name": "python3"
  },
  "language_info": {
   "codemirror_mode": {
    "name": "ipython",
    "version": 3
   },
   "file_extension": ".py",
   "mimetype": "text/x-python",
   "name": "python",
   "nbconvert_exporter": "python",
   "pygments_lexer": "ipython3",
   "version": "3.12.4"
  }
 },
 "nbformat": 4,
 "nbformat_minor": 5
}
