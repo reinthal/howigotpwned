{
 "cells": [
  {
   "cell_type": "code",
   "execution_count": 3,
   "id": "4dd8bd59-a59e-4dc3-b636-7dfeb3b664c7",
   "metadata": {},
   "outputs": [],
   "source": [
    "from dagster import EnvVar\n",
    "import patoolib\n",
    "import tempfile\n",
    "from dagster_aws.s3 import S3Resource\n",
    "import os\n",
    "s3 = S3Resource(\n",
    "    aws_secret_access_key=EnvVar(\"S3_SECRET_KEY\").get_value(),\n",
    "    aws_access_key_id=EnvVar(\"S3_ACCESS_KEY\").get_value(),\n",
    "    endpoint_url=EnvVar(\"S3_ENDPOINT\").get_value(),\n",
    ")\n"
   ]
  },
  {
   "cell_type": "code",
   "execution_count": 4,
   "id": "ae7a7a4c",
   "metadata": {},
   "outputs": [],
   "source": [
    "import fsspec\n",
    "\n",
    "# Define your AWS bucket and credentials\n",
    "aws_secret_access_key=EnvVar(\"S3_SECRET_KEY\").get_value(),\n",
    "aws_access_key_id=EnvVar(\"S3_ACCESS_KEY\").get_value(),\n",
    "endpoint_url=EnvVar(\"S3_ENDPOINT\").get_value(),\n",
    "bucket_name = 'dev'\n",
    "\n",
    "# Define paths\n",
    "\n",
    "# source \n",
    "archive_path = '/home/kog/Downloads/atarimania.com {3.081} [NOHASH] (Games)_special_for_XSS.IS.zip'\n",
    "\n",
    "# dest folder\n",
    "s3_path = f's3://{bucket_name}/'"
   ]
  },
  {
   "cell_type": "code",
   "execution_count": 45,
   "id": "2972f624",
   "metadata": {},
   "outputs": [
    {
     "name": "stderr",
     "output_type": "stream",
     "text": [
      "INFO patool: Extracting /home/kog/Downloads/atarimania.com {3.081} [NOHASH] (Games)_special_for_XSS.IS.zip ...\n",
      "INFO patool: ... /home/kog/Downloads/atarimania.com {3.081} [NOHASH] (Games)_special_for_XSS.IS.zip extracted to `/tmp/nix-shell.7lRuec/tmp1to5jgro'.\n"
     ]
    },
    {
     "name": "stdout",
     "output_type": "stream",
     "text": [
      "/tmp/nix-shell.7lRuec/tmp1to5jgro/atarimania.com {3.081} [NOHASH] (Games).txt\n"
     ]
    }
   ],
   "source": [
    "def copy_archive_to_s3(archive_path):\n",
    "    # Create filesystems\n",
    "    client = s3.get_client()\n",
    "    with tempfile.TemporaryDirectory() as tmpdirname:\n",
    "        patoolib.extract_archive(archive_path, outdir=tmpdirname)\n",
    "        for f in os.listdir(tmpdirname):\n",
    "            print(f\"{tmpdirname}/{f}\")\n",
    "            client.upload_file(f\"{tmpdirname}/{f}\", Bucket=bucket_name, Key=f)\n",
    "            \n",
    "# Run the function to copy files\n",
    "copy_archive_to_s3(archive_path, s3_path)"
   ]
  },
  {
   "cell_type": "code",
   "execution_count": 1,
   "id": "c220046c",
   "metadata": {},
   "outputs": [],
   "source": [
    "SOURCE_BUCKET='leaks'\n",
    "TARGET_BUCKET='raw'\n",
    "FOLDER_PATH='Cit0/Cit0day.in_special_for_xss.is/Cit0day Prem [_special_for_xss.is]'"
   ]
  },
  {
   "cell_type": "code",
   "execution_count": 5,
   "id": "702e30d6-6c22-46b1-b516-2c906d44a8c3",
   "metadata": {},
   "outputs": [],
   "source": [
    "response = s3.get_client().list_objects(Bucket=SOURCE_BUCKET, Marker=FOLDER_PATH)"
   ]
  },
  {
   "cell_type": "code",
   "execution_count": 12,
   "id": "2f2317b7-bc3f-44f1-8c34-8abe59a3a1f4",
   "metadata": {
    "scrolled": true
   },
   "outputs": [
    {
     "data": {
      "text/plain": [
       "<bound method ClientCreator._create_api_method.<locals>._api_call of <botocore.client.S3 object at 0x7f1dae5e9ee0>>"
      ]
     },
     "execution_count": 12,
     "metadata": {},
     "output_type": "execute_result"
    }
   ],
   "source": [
    "s3.get_client().list_objects"
   ]
  },
  {
   "cell_type": "code",
   "execution_count": 13,
   "id": "d91935ac-30d4-4ebe-9b1e-f4b0259202e6",
   "metadata": {},
   "outputs": [],
   "source": [
    "client = s3.get_client()"
   ]
  },
  {
   "cell_type": "code",
   "execution_count": 14,
   "id": "77af08c4-3071-4892-b418-a1b9dfc84ad0",
   "metadata": {},
   "outputs": [
    {
     "data": {
      "text/plain": [
       "\u001b[0;31mSignature:\u001b[0m \u001b[0mclient\u001b[0m\u001b[0;34m.\u001b[0m\u001b[0mcan_paginate\u001b[0m\u001b[0;34m(\u001b[0m\u001b[0moperation_name\u001b[0m\u001b[0;34m)\u001b[0m\u001b[0;34m\u001b[0m\u001b[0;34m\u001b[0m\u001b[0m\n",
       "\u001b[0;31mDocstring:\u001b[0m\n",
       "Check if an operation can be paginated.\n",
       "\n",
       ":type operation_name: string\n",
       ":param operation_name: The operation name.  This is the same name\n",
       "    as the method name on the client.  For example, if the\n",
       "    method name is ``create_foo``, and you'd normally invoke the\n",
       "    operation as ``client.create_foo(**kwargs)``, if the\n",
       "    ``create_foo`` operation can be paginated, you can use the\n",
       "    call ``client.get_paginator(\"create_foo\")``.\n",
       "\n",
       ":return: ``True`` if the operation can be paginated,\n",
       "    ``False`` otherwise.\n",
       "\u001b[0;31mFile:\u001b[0m      /nix/store/5r42vc7gqzaxpmmkhd3chhrk4xm95jxa-python3-3.12.4-env/lib/python3.12/site-packages/botocore/client.py\n",
       "\u001b[0;31mType:\u001b[0m      method"
      ]
     },
     "metadata": {},
     "output_type": "display_data"
    }
   ],
   "source": [
    "client.can_paginate?"
   ]
  },
  {
   "cell_type": "code",
   "execution_count": 15,
   "id": "8a76e259-c64c-478b-b028-96ca50f849d4",
   "metadata": {},
   "outputs": [
    {
     "data": {
      "text/plain": [
       "True"
      ]
     },
     "execution_count": 15,
     "metadata": {},
     "output_type": "execute_result"
    }
   ],
   "source": [
    "client.can_paginate(\"list_objects\")"
   ]
  },
  {
   "cell_type": "code",
   "execution_count": 16,
   "id": "5de04736-8c25-4026-bee6-a04fae310423",
   "metadata": {},
   "outputs": [],
   "source": [
    "paginator = client.get_paginator(\"list_objects\")"
   ]
  },
  {
   "cell_type": "code",
   "execution_count": 36,
   "id": "373a12c5-010b-468d-b6a9-447946e3b65d",
   "metadata": {},
   "outputs": [],
   "source": [
    "SOURCE_BUCKET='leaks'\n",
    "TARGET_BUCKET='raw'\n",
    "FOLDER_PATH='Cit0/Cit0day.in_special_for_xss.is/Cit0day Prem [_special_for_xss.is]'\n",
    "response_iterator = paginator.paginate(Bucket=SOURCE_BUCKET, Prefix=FOLDER_PATH)"
   ]
  },
  {
   "cell_type": "code",
   "execution_count": 37,
   "id": "6165bfd3-5259-4f23-99da-2d7ad4a5953d",
   "metadata": {
    "scrolled": true
   },
   "outputs": [
    {
     "name": "stdout",
     "output_type": "stream",
     "text": [
      "total items: 8949\n"
     ]
    }
   ],
   "source": [
    "ctr = 0\n",
    "sum_items = 0\n",
    "all_keys = []\n",
    "for lol in iter(response_iterator):\n",
    "    ctr = ctr + 1\n",
    "    len_iterator  = len(lol[\"Contents\"])\n",
    "    for obj in lol[\"Contents\"]:\n",
    "        all_keys.append(obj[\"Key\"])\n",
    "print(\"total items: \" + str(len(all_keys)))"
   ]
  },
  {
   "cell_type": "code",
   "execution_count": null,
   "id": "d6dc4d59-89f7-46bd-896c-3a1116b751a4",
   "metadata": {},
   "outputs": [],
   "source": []
  }
 ],
 "metadata": {
  "kernelspec": {
   "display_name": "Python 3 (ipykernel)",
   "language": "python",
   "name": "python3"
  },
  "language_info": {
   "codemirror_mode": {
    "name": "ipython",
    "version": 3
   },
   "file_extension": ".py",
   "mimetype": "text/x-python",
   "name": "python",
   "nbconvert_exporter": "python",
   "pygments_lexer": "ipython3",
   "version": "3.12.4"
  }
 },
 "nbformat": 4,
 "nbformat_minor": 5
}
