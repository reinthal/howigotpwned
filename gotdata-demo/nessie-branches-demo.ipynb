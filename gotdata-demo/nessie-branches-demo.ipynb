{
 "cells": [
  {
   "cell_type": "code",
   "execution_count": 4,
   "id": "123030a1-0ebb-44ec-95ec-4ce2a0ac0aa5",
   "metadata": {},
   "outputs": [
    {
     "name": "stdout",
     "output_type": "stream",
     "text": [
      "branch: add-taxi-data\n"
     ]
    }
   ],
   "source": [
    "import os\n",
    "\n",
    "import polars as pl\n",
    "from dagster import EnvVar\n",
    "from dagster_aws.s3 import S3Resource\n",
    "from pyiceberg.catalog import load_catalog\n",
    "\n",
    "from dagster_project.schemas import (\n",
    "    cit0day_partition_spec,\n",
    "    cit0day_schema,\n",
    "    cit0day_sort_order,\n",
    ")\n",
    "\n",
    "name = \"default\"\n",
    "warehouse = EnvVar(\"NESSIE_WAREHOUSE\").get_value()\n",
    "branch = EnvVar(\"NESSIE_BRANCH\").get_value()\n",
    "uri = EnvVar(\"NESSIE_URI\").get_value()\n",
    "py_io_impl = \"pyiceberg.io.pyarrow.PyArrowFileIO\"\n",
    "s3_endpoint = EnvVar(\\\n",
    "    \"DESTINATION__FILESYSTEM__CREDENTIALS__AWS_S3_ENDPOINT\"\\\n",
    "        ).get_value()\n",
    "s3_access_key_id = EnvVar(\n",
    "    \"DESTINATION__FILESYSTEM__CREDENTIALS__AWS_ACCESS_KEY_ID\"\n",
    ").get_value()\n",
    "s3_secret_access_key = EnvVar(\n",
    "    \"DESTINATION__FILESYSTEM__CREDENTIALS__AWS_SECRET_ACCESS_KEY\"\n",
    ").get_value()\n",
    "catalog_type = \"rest\"\n",
    "catalog = load_catalog(\n",
    "            **{\n",
    "                \"warehouse\": warehouse,\n",
    "                \"uri\": f\"{uri}/{branch}\",\n",
    "                \"py-io-impl\": py_io_impl,\n",
    "                \"s3.endpoint\": s3_endpoint,\n",
    "                \"s3.access-key-id\": s3_access_key_id,\n",
    "                \"s3.secret-access-key\": s3_secret_access_key,\n",
    "                \"type\": catalog_type,\n",
    "            },\n",
    "        )\n",
    "\n",
    "print(f\"branch: {branch}\")"
   ]
  },
  {
   "cell_type": "code",
   "execution_count": 2,
   "id": "546b9a3e-41f5-4f83-af42-8070b826b2e9",
   "metadata": {},
   "outputs": [
    {
     "data": {
      "text/plain": [
       "[]"
      ]
     },
     "execution_count": 2,
     "metadata": {},
     "output_type": "execute_result"
    }
   ],
   "source": [
    "catalog.list_tables(\"gotdata-demo\")"
   ]
  },
  {
   "cell_type": "code",
   "execution_count": 5,
   "id": "e384fb32-51a9-490e-9c98-1fb60403d20c",
   "metadata": {},
   "outputs": [],
   "source": [
    "catalog.create_namespace(\"gotdata-demo\")"
   ]
  },
  {
   "cell_type": "code",
   "execution_count": null,
   "id": "4f9b4250-5a54-4170-9e66-638ed19bb328",
   "metadata": {},
   "outputs": [],
   "source": [
    "table = catalog.create_table(\n",
    "    \"gotdata-demo.taxi_dataset\",\n",
    "    schema=df.schema,\n",
    ")"
   ]
  }
 ],
 "metadata": {
  "kernelspec": {
   "display_name": "Python 3 (ipykernel)",
   "language": "python",
   "name": "python3"
  },
  "language_info": {
   "codemirror_mode": {
    "name": "ipython",
    "version": 3
   },
   "file_extension": ".py",
   "mimetype": "text/x-python",
   "name": "python",
   "nbconvert_exporter": "python",
   "pygments_lexer": "ipython3",
   "version": "3.12.4"
  }
 },
 "nbformat": 4,
 "nbformat_minor": 5
}
